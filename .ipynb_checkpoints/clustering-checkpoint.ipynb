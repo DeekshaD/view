{
 "cells": [
  {
   "cell_type": "code",
   "execution_count": 54,
   "metadata": {},
   "outputs": [],
   "source": [
    "import pandas as pd\n",
    "import matplotlib.pyplot as plt\n",
    "import seaborn as sns\n",
    "import numpy as np\n",
    "from sklearn.preprocessing import StandardScaler"
   ]
  },
  {
   "cell_type": "code",
   "execution_count": 2,
   "metadata": {},
   "outputs": [],
   "source": [
    "%matplotlib inline"
   ]
  },
  {
   "cell_type": "code",
   "execution_count": 3,
   "metadata": {},
   "outputs": [],
   "source": [
    "data = pd.read_csv('./data/Sensor_Weather_Data_Challenge.csv', index_col=0, parse_dates=True)"
   ]
  },
  {
   "cell_type": "code",
   "execution_count": 4,
   "metadata": {
    "scrolled": true
   },
   "outputs": [
    {
     "data": {
      "text/html": [
       "<div>\n",
       "<style scoped>\n",
       "    .dataframe tbody tr th:only-of-type {\n",
       "        vertical-align: middle;\n",
       "    }\n",
       "\n",
       "    .dataframe tbody tr th {\n",
       "        vertical-align: top;\n",
       "    }\n",
       "\n",
       "    .dataframe thead th {\n",
       "        text-align: right;\n",
       "    }\n",
       "</style>\n",
       "<table border=\"1\" class=\"dataframe\">\n",
       "  <thead>\n",
       "    <tr style=\"text-align: right;\">\n",
       "      <th></th>\n",
       "      <th>d1</th>\n",
       "      <th>d2</th>\n",
       "      <th>d3</th>\n",
       "      <th>d4</th>\n",
       "      <th>d5</th>\n",
       "      <th>d6</th>\n",
       "      <th>d7</th>\n",
       "      <th>d8</th>\n",
       "      <th>d9</th>\n",
       "      <th>d10</th>\n",
       "      <th>...</th>\n",
       "      <th>d13</th>\n",
       "      <th>sky</th>\n",
       "      <th>temperature</th>\n",
       "      <th>humidity</th>\n",
       "      <th>pressure</th>\n",
       "      <th>wind_speed</th>\n",
       "      <th>wind_direction</th>\n",
       "      <th>visibility</th>\n",
       "      <th>storm_dist</th>\n",
       "      <th>storm_direction</th>\n",
       "    </tr>\n",
       "    <tr>\n",
       "      <th>Time</th>\n",
       "      <th></th>\n",
       "      <th></th>\n",
       "      <th></th>\n",
       "      <th></th>\n",
       "      <th></th>\n",
       "      <th></th>\n",
       "      <th></th>\n",
       "      <th></th>\n",
       "      <th></th>\n",
       "      <th></th>\n",
       "      <th></th>\n",
       "      <th></th>\n",
       "      <th></th>\n",
       "      <th></th>\n",
       "      <th></th>\n",
       "      <th></th>\n",
       "      <th></th>\n",
       "      <th></th>\n",
       "      <th></th>\n",
       "      <th></th>\n",
       "      <th></th>\n",
       "    </tr>\n",
       "  </thead>\n",
       "  <tbody>\n",
       "    <tr>\n",
       "      <th>2019-03-25 11:40:02</th>\n",
       "      <td>118.69</td>\n",
       "      <td>122.00</td>\n",
       "      <td>174.11</td>\n",
       "      <td>255.76</td>\n",
       "      <td>372.90</td>\n",
       "      <td>445.78</td>\n",
       "      <td>456.13</td>\n",
       "      <td>327.28</td>\n",
       "      <td>261.67</td>\n",
       "      <td>220.01</td>\n",
       "      <td>...</td>\n",
       "      <td>445.95</td>\n",
       "      <td>-30.82</td>\n",
       "      <td>43.71</td>\n",
       "      <td>41.0</td>\n",
       "      <td>1024.73</td>\n",
       "      <td>2.78</td>\n",
       "      <td>260.0</td>\n",
       "      <td>9.96</td>\n",
       "      <td>18.0</td>\n",
       "      <td>350.0</td>\n",
       "    </tr>\n",
       "    <tr>\n",
       "      <th>2019-03-25 11:41:02</th>\n",
       "      <td>118.71</td>\n",
       "      <td>122.10</td>\n",
       "      <td>174.09</td>\n",
       "      <td>254.72</td>\n",
       "      <td>371.33</td>\n",
       "      <td>444.66</td>\n",
       "      <td>456.81</td>\n",
       "      <td>328.09</td>\n",
       "      <td>262.33</td>\n",
       "      <td>220.30</td>\n",
       "      <td>...</td>\n",
       "      <td>447.16</td>\n",
       "      <td>-30.30</td>\n",
       "      <td>43.71</td>\n",
       "      <td>41.0</td>\n",
       "      <td>1024.73</td>\n",
       "      <td>2.78</td>\n",
       "      <td>260.0</td>\n",
       "      <td>9.96</td>\n",
       "      <td>18.0</td>\n",
       "      <td>350.0</td>\n",
       "    </tr>\n",
       "    <tr>\n",
       "      <th>2019-03-25 11:42:02</th>\n",
       "      <td>118.78</td>\n",
       "      <td>122.22</td>\n",
       "      <td>174.16</td>\n",
       "      <td>253.93</td>\n",
       "      <td>370.31</td>\n",
       "      <td>443.77</td>\n",
       "      <td>457.19</td>\n",
       "      <td>329.17</td>\n",
       "      <td>263.24</td>\n",
       "      <td>220.68</td>\n",
       "      <td>...</td>\n",
       "      <td>449.24</td>\n",
       "      <td>-27.92</td>\n",
       "      <td>43.76</td>\n",
       "      <td>40.0</td>\n",
       "      <td>1024.71</td>\n",
       "      <td>2.88</td>\n",
       "      <td>259.0</td>\n",
       "      <td>9.97</td>\n",
       "      <td>18.0</td>\n",
       "      <td>350.0</td>\n",
       "    </tr>\n",
       "    <tr>\n",
       "      <th>2019-03-25 11:43:02</th>\n",
       "      <td>118.82</td>\n",
       "      <td>122.34</td>\n",
       "      <td>174.18</td>\n",
       "      <td>253.00</td>\n",
       "      <td>369.00</td>\n",
       "      <td>442.90</td>\n",
       "      <td>457.58</td>\n",
       "      <td>330.10</td>\n",
       "      <td>263.96</td>\n",
       "      <td>220.95</td>\n",
       "      <td>...</td>\n",
       "      <td>450.82</td>\n",
       "      <td>-28.86</td>\n",
       "      <td>43.81</td>\n",
       "      <td>40.0</td>\n",
       "      <td>1024.69</td>\n",
       "      <td>2.99</td>\n",
       "      <td>258.0</td>\n",
       "      <td>9.97</td>\n",
       "      <td>12.0</td>\n",
       "      <td>263.0</td>\n",
       "    </tr>\n",
       "    <tr>\n",
       "      <th>2019-03-25 11:44:02</th>\n",
       "      <td>118.77</td>\n",
       "      <td>122.30</td>\n",
       "      <td>174.16</td>\n",
       "      <td>251.83</td>\n",
       "      <td>367.44</td>\n",
       "      <td>441.34</td>\n",
       "      <td>457.38</td>\n",
       "      <td>330.69</td>\n",
       "      <td>264.55</td>\n",
       "      <td>221.04</td>\n",
       "      <td>...</td>\n",
       "      <td>451.60</td>\n",
       "      <td>-32.86</td>\n",
       "      <td>43.86</td>\n",
       "      <td>40.0</td>\n",
       "      <td>1024.67</td>\n",
       "      <td>3.09</td>\n",
       "      <td>257.0</td>\n",
       "      <td>9.97</td>\n",
       "      <td>12.0</td>\n",
       "      <td>263.0</td>\n",
       "    </tr>\n",
       "  </tbody>\n",
       "</table>\n",
       "<p>5 rows × 22 columns</p>\n",
       "</div>"
      ],
      "text/plain": [
       "                         d1      d2      d3      d4      d5      d6      d7  \\\n",
       "Time                                                                          \n",
       "2019-03-25 11:40:02  118.69  122.00  174.11  255.76  372.90  445.78  456.13   \n",
       "2019-03-25 11:41:02  118.71  122.10  174.09  254.72  371.33  444.66  456.81   \n",
       "2019-03-25 11:42:02  118.78  122.22  174.16  253.93  370.31  443.77  457.19   \n",
       "2019-03-25 11:43:02  118.82  122.34  174.18  253.00  369.00  442.90  457.58   \n",
       "2019-03-25 11:44:02  118.77  122.30  174.16  251.83  367.44  441.34  457.38   \n",
       "\n",
       "                         d8      d9     d10       ...            d13    sky  \\\n",
       "Time                                              ...                         \n",
       "2019-03-25 11:40:02  327.28  261.67  220.01       ...         445.95 -30.82   \n",
       "2019-03-25 11:41:02  328.09  262.33  220.30       ...         447.16 -30.30   \n",
       "2019-03-25 11:42:02  329.17  263.24  220.68       ...         449.24 -27.92   \n",
       "2019-03-25 11:43:02  330.10  263.96  220.95       ...         450.82 -28.86   \n",
       "2019-03-25 11:44:02  330.69  264.55  221.04       ...         451.60 -32.86   \n",
       "\n",
       "                     temperature  humidity  pressure  wind_speed  \\\n",
       "Time                                                               \n",
       "2019-03-25 11:40:02        43.71      41.0   1024.73        2.78   \n",
       "2019-03-25 11:41:02        43.71      41.0   1024.73        2.78   \n",
       "2019-03-25 11:42:02        43.76      40.0   1024.71        2.88   \n",
       "2019-03-25 11:43:02        43.81      40.0   1024.69        2.99   \n",
       "2019-03-25 11:44:02        43.86      40.0   1024.67        3.09   \n",
       "\n",
       "                     wind_direction  visibility  storm_dist  storm_direction  \n",
       "Time                                                                          \n",
       "2019-03-25 11:40:02           260.0        9.96        18.0            350.0  \n",
       "2019-03-25 11:41:02           260.0        9.96        18.0            350.0  \n",
       "2019-03-25 11:42:02           259.0        9.97        18.0            350.0  \n",
       "2019-03-25 11:43:02           258.0        9.97        12.0            263.0  \n",
       "2019-03-25 11:44:02           257.0        9.97        12.0            263.0  \n",
       "\n",
       "[5 rows x 22 columns]"
      ]
     },
     "execution_count": 4,
     "metadata": {},
     "output_type": "execute_result"
    }
   ],
   "source": [
    "data.head()"
   ]
  },
  {
   "cell_type": "code",
   "execution_count": 15,
   "metadata": {},
   "outputs": [],
   "source": [
    "data['date'] = data.index"
   ]
  },
  {
   "cell_type": "code",
   "execution_count": 74,
   "metadata": {},
   "outputs": [
    {
     "data": {
      "text/plain": [
       "11"
      ]
     },
     "execution_count": 74,
     "metadata": {},
     "output_type": "execute_result"
    }
   ],
   "source": [
    "d = data.index[0]"
   ]
  },
  {
   "cell_type": "code",
   "execution_count": 16,
   "metadata": {},
   "outputs": [],
   "source": [
    "data['day'] = data['date'].apply(lambda x:x.weekday())"
   ]
  },
  {
   "cell_type": "code",
   "execution_count": 62,
   "metadata": {},
   "outputs": [],
   "source": [
    "x_cols = data.columns[0:14]"
   ]
  },
  {
   "cell_type": "code",
   "execution_count": 63,
   "metadata": {
    "scrolled": true
   },
   "outputs": [],
   "source": [
    "data_summary = pd.DataFrame({'features': x_cols, \"tot_reading\": np.sum(data[x_cols]).values})"
   ]
  },
  {
   "cell_type": "code",
   "execution_count": 64,
   "metadata": {},
   "outputs": [],
   "source": [
    "data_summary['day_avg'] = data[x_cols].mean().values\n",
    "days = ['monday', 'tuesday', 'wednesday', 'thursday', 'friday', 'saturday', 'sunday']\n",
    "for i in range(0,7):\n",
    "        data_summary[days[i]] = data[data['day'] == i][x_cols].sum().values/data_summary[\"tot_reading\"]*100\n",
    "\n",
    "data_summary['weekday']=data[(data['day']!=5) & (data['day']!=6)][x_cols].sum().values/data_summary[\"tot_reading\"]*100\n",
    "data_summary['weekend']=data[(data['day']==5) | (data['day']==6)][x_cols].sum().values/data_summary[\"tot_reading\"]*100"
   ]
  },
  {
   "cell_type": "code",
   "execution_count": 65,
   "metadata": {},
   "outputs": [
    {
     "data": {
      "text/html": [
       "<div>\n",
       "<style scoped>\n",
       "    .dataframe tbody tr th:only-of-type {\n",
       "        vertical-align: middle;\n",
       "    }\n",
       "\n",
       "    .dataframe tbody tr th {\n",
       "        vertical-align: top;\n",
       "    }\n",
       "\n",
       "    .dataframe thead th {\n",
       "        text-align: right;\n",
       "    }\n",
       "</style>\n",
       "<table border=\"1\" class=\"dataframe\">\n",
       "  <thead>\n",
       "    <tr style=\"text-align: right;\">\n",
       "      <th></th>\n",
       "      <th>features</th>\n",
       "      <th>tot_reading</th>\n",
       "      <th>day_avg</th>\n",
       "      <th>monday</th>\n",
       "      <th>tuesday</th>\n",
       "      <th>wednesday</th>\n",
       "      <th>thursday</th>\n",
       "      <th>friday</th>\n",
       "      <th>saturday</th>\n",
       "      <th>sunday</th>\n",
       "      <th>weekday</th>\n",
       "      <th>weekend</th>\n",
       "    </tr>\n",
       "  </thead>\n",
       "  <tbody>\n",
       "    <tr>\n",
       "      <th>0</th>\n",
       "      <td>d1</td>\n",
       "      <td>2091294.02</td>\n",
       "      <td>56.087916</td>\n",
       "      <td>13.440480</td>\n",
       "      <td>15.973353</td>\n",
       "      <td>16.152996</td>\n",
       "      <td>15.633820</td>\n",
       "      <td>13.684445</td>\n",
       "      <td>13.199775</td>\n",
       "      <td>11.915131</td>\n",
       "      <td>74.885094</td>\n",
       "      <td>25.114906</td>\n",
       "    </tr>\n",
       "    <tr>\n",
       "      <th>1</th>\n",
       "      <td>d2</td>\n",
       "      <td>2181057.62</td>\n",
       "      <td>58.495350</td>\n",
       "      <td>14.196459</td>\n",
       "      <td>15.524266</td>\n",
       "      <td>14.716310</td>\n",
       "      <td>15.455416</td>\n",
       "      <td>14.124913</td>\n",
       "      <td>13.765722</td>\n",
       "      <td>12.216914</td>\n",
       "      <td>74.017364</td>\n",
       "      <td>25.982636</td>\n",
       "    </tr>\n",
       "    <tr>\n",
       "      <th>2</th>\n",
       "      <td>d3</td>\n",
       "      <td>3359538.48</td>\n",
       "      <td>90.101874</td>\n",
       "      <td>15.472425</td>\n",
       "      <td>14.355524</td>\n",
       "      <td>12.497894</td>\n",
       "      <td>15.475808</td>\n",
       "      <td>14.757300</td>\n",
       "      <td>14.843615</td>\n",
       "      <td>12.597434</td>\n",
       "      <td>72.558951</td>\n",
       "      <td>27.441049</td>\n",
       "    </tr>\n",
       "    <tr>\n",
       "      <th>3</th>\n",
       "      <td>d4</td>\n",
       "      <td>4505467.32</td>\n",
       "      <td>120.835362</td>\n",
       "      <td>16.115700</td>\n",
       "      <td>13.779909</td>\n",
       "      <td>11.372821</td>\n",
       "      <td>15.655630</td>\n",
       "      <td>14.954229</td>\n",
       "      <td>15.405542</td>\n",
       "      <td>12.716168</td>\n",
       "      <td>71.878290</td>\n",
       "      <td>28.121710</td>\n",
       "    </tr>\n",
       "    <tr>\n",
       "      <th>4</th>\n",
       "      <td>d5</td>\n",
       "      <td>5110759.51</td>\n",
       "      <td>137.069128</td>\n",
       "      <td>16.285697</td>\n",
       "      <td>13.877203</td>\n",
       "      <td>11.740873</td>\n",
       "      <td>15.918022</td>\n",
       "      <td>14.624118</td>\n",
       "      <td>15.221669</td>\n",
       "      <td>12.332417</td>\n",
       "      <td>72.445913</td>\n",
       "      <td>27.554087</td>\n",
       "    </tr>\n",
       "    <tr>\n",
       "      <th>5</th>\n",
       "      <td>d6</td>\n",
       "      <td>4761808.64</td>\n",
       "      <td>127.710364</td>\n",
       "      <td>16.120929</td>\n",
       "      <td>14.379259</td>\n",
       "      <td>12.999759</td>\n",
       "      <td>16.076996</td>\n",
       "      <td>14.026156</td>\n",
       "      <td>14.671326</td>\n",
       "      <td>11.725576</td>\n",
       "      <td>73.603098</td>\n",
       "      <td>26.396902</td>\n",
       "    </tr>\n",
       "    <tr>\n",
       "      <th>6</th>\n",
       "      <td>d7</td>\n",
       "      <td>4555471.50</td>\n",
       "      <td>122.176460</td>\n",
       "      <td>16.109035</td>\n",
       "      <td>15.024463</td>\n",
       "      <td>14.450731</td>\n",
       "      <td>16.262305</td>\n",
       "      <td>13.448706</td>\n",
       "      <td>13.903785</td>\n",
       "      <td>10.800974</td>\n",
       "      <td>75.295241</td>\n",
       "      <td>24.704759</td>\n",
       "    </tr>\n",
       "    <tr>\n",
       "      <th>7</th>\n",
       "      <td>d8</td>\n",
       "      <td>4081043.66</td>\n",
       "      <td>109.452440</td>\n",
       "      <td>16.623559</td>\n",
       "      <td>15.060391</td>\n",
       "      <td>14.720471</td>\n",
       "      <td>16.466362</td>\n",
       "      <td>13.516148</td>\n",
       "      <td>13.607056</td>\n",
       "      <td>10.006013</td>\n",
       "      <td>76.386931</td>\n",
       "      <td>23.613069</td>\n",
       "    </tr>\n",
       "    <tr>\n",
       "      <th>8</th>\n",
       "      <td>d9</td>\n",
       "      <td>4678368.34</td>\n",
       "      <td>125.472519</td>\n",
       "      <td>16.778660</td>\n",
       "      <td>14.581755</td>\n",
       "      <td>14.573952</td>\n",
       "      <td>16.685712</td>\n",
       "      <td>13.843257</td>\n",
       "      <td>13.841833</td>\n",
       "      <td>9.694830</td>\n",
       "      <td>76.463337</td>\n",
       "      <td>23.536663</td>\n",
       "    </tr>\n",
       "    <tr>\n",
       "      <th>9</th>\n",
       "      <td>d10</td>\n",
       "      <td>4557830.38</td>\n",
       "      <td>122.239725</td>\n",
       "      <td>16.331333</td>\n",
       "      <td>14.523877</td>\n",
       "      <td>14.639626</td>\n",
       "      <td>16.542090</td>\n",
       "      <td>14.111932</td>\n",
       "      <td>14.029723</td>\n",
       "      <td>9.821418</td>\n",
       "      <td>76.148858</td>\n",
       "      <td>23.851142</td>\n",
       "    </tr>\n",
       "    <tr>\n",
       "      <th>10</th>\n",
       "      <td>d11</td>\n",
       "      <td>3995384.78</td>\n",
       "      <td>107.155093</td>\n",
       "      <td>15.540716</td>\n",
       "      <td>14.770809</td>\n",
       "      <td>14.980507</td>\n",
       "      <td>16.167182</td>\n",
       "      <td>14.208573</td>\n",
       "      <td>14.061865</td>\n",
       "      <td>10.270347</td>\n",
       "      <td>75.667788</td>\n",
       "      <td>24.332212</td>\n",
       "    </tr>\n",
       "    <tr>\n",
       "      <th>11</th>\n",
       "      <td>d12</td>\n",
       "      <td>2915270.15</td>\n",
       "      <td>78.186723</td>\n",
       "      <td>14.248610</td>\n",
       "      <td>15.374892</td>\n",
       "      <td>15.777292</td>\n",
       "      <td>15.782448</td>\n",
       "      <td>13.930584</td>\n",
       "      <td>13.720430</td>\n",
       "      <td>11.165743</td>\n",
       "      <td>75.113826</td>\n",
       "      <td>24.886174</td>\n",
       "    </tr>\n",
       "    <tr>\n",
       "      <th>12</th>\n",
       "      <td>d13</td>\n",
       "      <td>8361431.39</td>\n",
       "      <td>224.251231</td>\n",
       "      <td>15.825253</td>\n",
       "      <td>15.020203</td>\n",
       "      <td>12.483055</td>\n",
       "      <td>15.454628</td>\n",
       "      <td>15.672326</td>\n",
       "      <td>14.267299</td>\n",
       "      <td>11.277236</td>\n",
       "      <td>74.455465</td>\n",
       "      <td>25.544535</td>\n",
       "    </tr>\n",
       "    <tr>\n",
       "      <th>13</th>\n",
       "      <td>sky</td>\n",
       "      <td>-438685.24</td>\n",
       "      <td>-11.765414</td>\n",
       "      <td>20.880703</td>\n",
       "      <td>15.554734</td>\n",
       "      <td>4.410301</td>\n",
       "      <td>15.247297</td>\n",
       "      <td>16.691052</td>\n",
       "      <td>17.005496</td>\n",
       "      <td>10.210419</td>\n",
       "      <td>72.784085</td>\n",
       "      <td>27.215915</td>\n",
       "    </tr>\n",
       "  </tbody>\n",
       "</table>\n",
       "</div>"
      ],
      "text/plain": [
       "   features  tot_reading     day_avg     monday    tuesday  wednesday  \\\n",
       "0        d1   2091294.02   56.087916  13.440480  15.973353  16.152996   \n",
       "1        d2   2181057.62   58.495350  14.196459  15.524266  14.716310   \n",
       "2        d3   3359538.48   90.101874  15.472425  14.355524  12.497894   \n",
       "3        d4   4505467.32  120.835362  16.115700  13.779909  11.372821   \n",
       "4        d5   5110759.51  137.069128  16.285697  13.877203  11.740873   \n",
       "5        d6   4761808.64  127.710364  16.120929  14.379259  12.999759   \n",
       "6        d7   4555471.50  122.176460  16.109035  15.024463  14.450731   \n",
       "7        d8   4081043.66  109.452440  16.623559  15.060391  14.720471   \n",
       "8        d9   4678368.34  125.472519  16.778660  14.581755  14.573952   \n",
       "9       d10   4557830.38  122.239725  16.331333  14.523877  14.639626   \n",
       "10      d11   3995384.78  107.155093  15.540716  14.770809  14.980507   \n",
       "11      d12   2915270.15   78.186723  14.248610  15.374892  15.777292   \n",
       "12      d13   8361431.39  224.251231  15.825253  15.020203  12.483055   \n",
       "13      sky   -438685.24  -11.765414  20.880703  15.554734   4.410301   \n",
       "\n",
       "     thursday     friday   saturday     sunday    weekday    weekend  \n",
       "0   15.633820  13.684445  13.199775  11.915131  74.885094  25.114906  \n",
       "1   15.455416  14.124913  13.765722  12.216914  74.017364  25.982636  \n",
       "2   15.475808  14.757300  14.843615  12.597434  72.558951  27.441049  \n",
       "3   15.655630  14.954229  15.405542  12.716168  71.878290  28.121710  \n",
       "4   15.918022  14.624118  15.221669  12.332417  72.445913  27.554087  \n",
       "5   16.076996  14.026156  14.671326  11.725576  73.603098  26.396902  \n",
       "6   16.262305  13.448706  13.903785  10.800974  75.295241  24.704759  \n",
       "7   16.466362  13.516148  13.607056  10.006013  76.386931  23.613069  \n",
       "8   16.685712  13.843257  13.841833   9.694830  76.463337  23.536663  \n",
       "9   16.542090  14.111932  14.029723   9.821418  76.148858  23.851142  \n",
       "10  16.167182  14.208573  14.061865  10.270347  75.667788  24.332212  \n",
       "11  15.782448  13.930584  13.720430  11.165743  75.113826  24.886174  \n",
       "12  15.454628  15.672326  14.267299  11.277236  74.455465  25.544535  \n",
       "13  15.247297  16.691052  17.005496  10.210419  72.784085  27.215915  "
      ]
     },
     "execution_count": 65,
     "metadata": {},
     "output_type": "execute_result"
    }
   ],
   "source": [
    "data_summary"
   ]
  },
  {
   "cell_type": "code",
   "execution_count": 66,
   "metadata": {},
   "outputs": [
    {
     "data": {
      "text/plain": [
       "features       0\n",
       "tot_reading    0\n",
       "day_avg        0\n",
       "monday         0\n",
       "tuesday        0\n",
       "wednesday      0\n",
       "thursday       0\n",
       "friday         0\n",
       "saturday       0\n",
       "sunday         0\n",
       "weekday        0\n",
       "weekend        0\n",
       "dtype: int64"
      ]
     },
     "execution_count": 66,
     "metadata": {},
     "output_type": "execute_result"
    }
   ],
   "source": [
    "data_summary.isna().sum()"
   ]
  },
  {
   "cell_type": "code",
   "execution_count": 67,
   "metadata": {},
   "outputs": [],
   "source": [
    "scaler = StandardScaler()\n",
    "scaled_mat = pd.DataFrame(scaler.fit_transform(data_summary.iloc[:, 1:]), columns = data_summary.columns[1:])"
   ]
  },
  {
   "cell_type": "code",
   "execution_count": 68,
   "metadata": {},
   "outputs": [],
   "source": [
    "scaled_mat.index = data_summary.features"
   ]
  },
  {
   "cell_type": "code",
   "execution_count": 69,
   "metadata": {},
   "outputs": [
    {
     "data": {
      "text/plain": [
       "<matplotlib.colorbar.Colorbar at 0x7fc6e0e8d860>"
      ]
     },
     "execution_count": 69,
     "metadata": {},
     "output_type": "execute_result"
    },
    {
     "data": {
      "image/png": "[encoded data removed]",
      "text/plain": [
       "<Figure size 576x432 with 2 Axes>"
      ]
     },
     "metadata": {
      "needs_background": "light"
     },
     "output_type": "display_data"
    }
   ],
   "source": [
    "corr = scaled_mat.corr()\n",
    "fig, ax = plt.subplots(figsize=(8, 6))\n",
    "cax=ax.matshow(corr,vmin=-1,vmax=1)\n",
    "ax.matshow(corr)\n",
    "plt.xticks(range(len(corr.columns)), corr.columns)\n",
    "plt.yticks(range(len(corr.columns)), corr.columns)\n",
    "plt.xticks(rotation=90)\n",
    "plt.colorbar(cax)\n"
   ]
  },
  {
   "cell_type": "markdown",
   "metadata": {},
   "source": [
    "### segmentation on time of day"
   ]
  },
  {
   "cell_type": "code",
   "execution_count": 194,
   "metadata": {},
   "outputs": [],
   "source": [
    "data['hour'] = data['date'].apply(lambda x: round(x.hour/3))\n",
    "data_hour = data.groupby(['day', 'hour']).mean()"
   ]
  },
  {
   "cell_type": "code",
   "execution_count": 195,
   "metadata": {},
   "outputs": [],
   "source": [
    "data_hour.index = [''.join(str(idx[0])+'-'+str(idx[1])) for idx in data_hour.index.values]"
   ]
  },
  {
   "cell_type": "code",
   "execution_count": 196,
   "metadata": {},
   "outputs": [],
   "source": [
    "data_hour = data_hour.transpose()"
   ]
  },
  {
   "cell_type": "code",
   "execution_count": 309,
   "metadata": {},
   "outputs": [],
   "source": [
    "scaler = StandardScaler()\n",
    "scaled_mat = pd.DataFrame(scaler.fit_transform(df), columns = df.columns, index=df.index)"
   ]
  },
  {
   "cell_type": "code",
   "execution_count": 310,
   "metadata": {
    "scrolled": true
   },
   "outputs": [
    {
     "data": {
      "text/html": [
       "<div>\n",
       "<style scoped>\n",
       "    .dataframe tbody tr th:only-of-type {\n",
       "        vertical-align: middle;\n",
       "    }\n",
       "\n",
       "    .dataframe tbody tr th {\n",
       "        vertical-align: top;\n",
       "    }\n",
       "\n",
       "    .dataframe thead th {\n",
       "        text-align: right;\n",
       "    }\n",
       "</style>\n",
       "<table border=\"1\" class=\"dataframe\">\n",
       "  <thead>\n",
       "    <tr style=\"text-align: right;\">\n",
       "      <th>Time</th>\n",
       "      <th>2019-03-25 06:00:00</th>\n",
       "      <th>2019-03-25 12:00:00</th>\n",
       "      <th>2019-03-25 18:00:00</th>\n",
       "      <th>2019-03-26 06:00:00</th>\n",
       "      <th>2019-03-26 12:00:00</th>\n",
       "      <th>2019-03-26 18:00:00</th>\n",
       "      <th>2019-03-27 06:00:00</th>\n",
       "      <th>2019-03-27 12:00:00</th>\n",
       "      <th>2019-03-27 18:00:00</th>\n",
       "      <th>2019-03-28 06:00:00</th>\n",
       "      <th>...</th>\n",
       "      <th>2019-05-08 06:00:00</th>\n",
       "      <th>2019-05-08 12:00:00</th>\n",
       "      <th>2019-05-08 18:00:00</th>\n",
       "      <th>2019-05-09 06:00:00</th>\n",
       "      <th>2019-05-09 12:00:00</th>\n",
       "      <th>2019-05-09 18:00:00</th>\n",
       "      <th>2019-05-10 00:00:00</th>\n",
       "      <th>2019-05-10 06:00:00</th>\n",
       "      <th>2019-05-10 12:00:00</th>\n",
       "      <th>2019-05-10 18:00:00</th>\n",
       "    </tr>\n",
       "  </thead>\n",
       "  <tbody>\n",
       "    <tr>\n",
       "      <th>d1</th>\n",
       "      <td>-0.423395</td>\n",
       "      <td>-0.468755</td>\n",
       "      <td>-0.328997</td>\n",
       "      <td>-0.493955</td>\n",
       "      <td>-0.445691</td>\n",
       "      <td>-0.348992</td>\n",
       "      <td>-0.498008</td>\n",
       "      <td>-0.405132</td>\n",
       "      <td>-0.306637</td>\n",
       "      <td>-0.434160</td>\n",
       "      <td>...</td>\n",
       "      <td>-0.272231</td>\n",
       "      <td>-0.266286</td>\n",
       "      <td>-0.281977</td>\n",
       "      <td>-0.287951</td>\n",
       "      <td>-0.253103</td>\n",
       "      <td>-0.289557</td>\n",
       "      <td>-0.308633</td>\n",
       "      <td>-0.321329</td>\n",
       "      <td>-0.240186</td>\n",
       "      <td>-0.251637</td>\n",
       "    </tr>\n",
       "    <tr>\n",
       "      <th>d2</th>\n",
       "      <td>-0.406367</td>\n",
       "      <td>-0.468865</td>\n",
       "      <td>-0.385066</td>\n",
       "      <td>-0.451046</td>\n",
       "      <td>-0.449265</td>\n",
       "      <td>-0.393304</td>\n",
       "      <td>-0.447592</td>\n",
       "      <td>-0.396604</td>\n",
       "      <td>-0.318060</td>\n",
       "      <td>-0.375592</td>\n",
       "      <td>...</td>\n",
       "      <td>-0.263057</td>\n",
       "      <td>-0.284918</td>\n",
       "      <td>-0.281763</td>\n",
       "      <td>-0.288530</td>\n",
       "      <td>-0.268719</td>\n",
       "      <td>-0.293965</td>\n",
       "      <td>-0.307490</td>\n",
       "      <td>-0.270116</td>\n",
       "      <td>-0.258114</td>\n",
       "      <td>-0.258487</td>\n",
       "    </tr>\n",
       "    <tr>\n",
       "      <th>d3</th>\n",
       "      <td>-0.178872</td>\n",
       "      <td>-0.305899</td>\n",
       "      <td>-0.373708</td>\n",
       "      <td>-0.019390</td>\n",
       "      <td>-0.293801</td>\n",
       "      <td>-0.375481</td>\n",
       "      <td>-0.004107</td>\n",
       "      <td>-0.253358</td>\n",
       "      <td>-0.301748</td>\n",
       "      <td>0.075380</td>\n",
       "      <td>...</td>\n",
       "      <td>-0.205847</td>\n",
       "      <td>-0.276537</td>\n",
       "      <td>-0.281723</td>\n",
       "      <td>-0.213332</td>\n",
       "      <td>-0.253441</td>\n",
       "      <td>-0.290665</td>\n",
       "      <td>-0.307795</td>\n",
       "      <td>-0.095206</td>\n",
       "      <td>-0.240062</td>\n",
       "      <td>-0.257985</td>\n",
       "    </tr>\n",
       "    <tr>\n",
       "      <th>d4</th>\n",
       "      <td>0.137489</td>\n",
       "      <td>-0.210798</td>\n",
       "      <td>-0.367804</td>\n",
       "      <td>0.578201</td>\n",
       "      <td>-0.200277</td>\n",
       "      <td>-0.366760</td>\n",
       "      <td>0.622759</td>\n",
       "      <td>-0.165120</td>\n",
       "      <td>-0.295856</td>\n",
       "      <td>0.685336</td>\n",
       "      <td>...</td>\n",
       "      <td>-0.164568</td>\n",
       "      <td>-0.277341</td>\n",
       "      <td>-0.281910</td>\n",
       "      <td>-0.139365</td>\n",
       "      <td>-0.255097</td>\n",
       "      <td>-0.288971</td>\n",
       "      <td>-0.307395</td>\n",
       "      <td>0.072922</td>\n",
       "      <td>-0.237064</td>\n",
       "      <td>-0.258802</td>\n",
       "    </tr>\n",
       "    <tr>\n",
       "      <th>d5</th>\n",
       "      <td>0.643990</td>\n",
       "      <td>-0.051430</td>\n",
       "      <td>-0.363737</td>\n",
       "      <td>0.969959</td>\n",
       "      <td>-0.045780</td>\n",
       "      <td>-0.356869</td>\n",
       "      <td>1.050303</td>\n",
       "      <td>-0.009324</td>\n",
       "      <td>-0.288372</td>\n",
       "      <td>1.068029</td>\n",
       "      <td>...</td>\n",
       "      <td>-0.164256</td>\n",
       "      <td>-0.255562</td>\n",
       "      <td>-0.281567</td>\n",
       "      <td>-0.079125</td>\n",
       "      <td>-0.248222</td>\n",
       "      <td>-0.284876</td>\n",
       "      <td>-0.307471</td>\n",
       "      <td>0.124430</td>\n",
       "      <td>-0.213753</td>\n",
       "      <td>-0.256484</td>\n",
       "    </tr>\n",
       "    <tr>\n",
       "      <th>d6</th>\n",
       "      <td>0.971926</td>\n",
       "      <td>0.142510</td>\n",
       "      <td>-0.359825</td>\n",
       "      <td>0.794542</td>\n",
       "      <td>0.113478</td>\n",
       "      <td>-0.355886</td>\n",
       "      <td>0.856799</td>\n",
       "      <td>0.153819</td>\n",
       "      <td>-0.285813</td>\n",
       "      <td>0.846922</td>\n",
       "      <td>...</td>\n",
       "      <td>-0.199731</td>\n",
       "      <td>-0.227276</td>\n",
       "      <td>-0.278297</td>\n",
       "      <td>-0.075393</td>\n",
       "      <td>-0.231854</td>\n",
       "      <td>-0.277421</td>\n",
       "      <td>-0.304434</td>\n",
       "      <td>0.037240</td>\n",
       "      <td>-0.185178</td>\n",
       "      <td>-0.250491</td>\n",
       "    </tr>\n",
       "    <tr>\n",
       "      <th>d7</th>\n",
       "      <td>1.075615</td>\n",
       "      <td>0.598690</td>\n",
       "      <td>-0.312809</td>\n",
       "      <td>0.364142</td>\n",
       "      <td>0.503747</td>\n",
       "      <td>-0.316902</td>\n",
       "      <td>0.377907</td>\n",
       "      <td>0.482762</td>\n",
       "      <td>-0.264590</td>\n",
       "      <td>0.364592</td>\n",
       "      <td>...</td>\n",
       "      <td>-0.222699</td>\n",
       "      <td>-0.186715</td>\n",
       "      <td>-0.278384</td>\n",
       "      <td>-0.061682</td>\n",
       "      <td>-0.185854</td>\n",
       "      <td>-0.266596</td>\n",
       "      <td>-0.305700</td>\n",
       "      <td>-0.057369</td>\n",
       "      <td>-0.131066</td>\n",
       "      <td>-0.242455</td>\n",
       "    </tr>\n",
       "    <tr>\n",
       "      <th>d8</th>\n",
       "      <td>0.534628</td>\n",
       "      <td>0.843591</td>\n",
       "      <td>-0.085559</td>\n",
       "      <td>-0.123684</td>\n",
       "      <td>0.638552</td>\n",
       "      <td>-0.171631</td>\n",
       "      <td>-0.144551</td>\n",
       "      <td>0.500804</td>\n",
       "      <td>-0.212257</td>\n",
       "      <td>-0.132273</td>\n",
       "      <td>...</td>\n",
       "      <td>-0.282784</td>\n",
       "      <td>-0.227262</td>\n",
       "      <td>-0.281592</td>\n",
       "      <td>-0.164008</td>\n",
       "      <td>-0.223873</td>\n",
       "      <td>-0.275322</td>\n",
       "      <td>-0.306300</td>\n",
       "      <td>-0.223293</td>\n",
       "      <td>-0.179137</td>\n",
       "      <td>-0.247235</td>\n",
       "    </tr>\n",
       "    <tr>\n",
       "      <th>d9</th>\n",
       "      <td>0.241512</td>\n",
       "      <td>1.161473</td>\n",
       "      <td>0.342542</td>\n",
       "      <td>-0.195621</td>\n",
       "      <td>0.827257</td>\n",
       "      <td>0.124394</td>\n",
       "      <td>-0.248052</td>\n",
       "      <td>0.523420</td>\n",
       "      <td>-0.093513</td>\n",
       "      <td>-0.212470</td>\n",
       "      <td>...</td>\n",
       "      <td>-0.278497</td>\n",
       "      <td>-0.232968</td>\n",
       "      <td>-0.281344</td>\n",
       "      <td>-0.157600</td>\n",
       "      <td>-0.209558</td>\n",
       "      <td>-0.266497</td>\n",
       "      <td>-0.306548</td>\n",
       "      <td>-0.236614</td>\n",
       "      <td>-0.179708</td>\n",
       "      <td>-0.239454</td>\n",
       "    </tr>\n",
       "    <tr>\n",
       "      <th>d10</th>\n",
       "      <td>0.034915</td>\n",
       "      <td>0.867132</td>\n",
       "      <td>0.509513</td>\n",
       "      <td>-0.255211</td>\n",
       "      <td>0.573896</td>\n",
       "      <td>0.237882</td>\n",
       "      <td>-0.291915</td>\n",
       "      <td>0.280580</td>\n",
       "      <td>-0.060763</td>\n",
       "      <td>-0.247611</td>\n",
       "      <td>...</td>\n",
       "      <td>-0.281340</td>\n",
       "      <td>-0.247567</td>\n",
       "      <td>-0.281412</td>\n",
       "      <td>-0.193835</td>\n",
       "      <td>-0.226726</td>\n",
       "      <td>-0.268655</td>\n",
       "      <td>-0.306890</td>\n",
       "      <td>-0.266308</td>\n",
       "      <td>-0.200699</td>\n",
       "      <td>-0.237429</td>\n",
       "    </tr>\n",
       "    <tr>\n",
       "      <th>d11</th>\n",
       "      <td>-0.185129</td>\n",
       "      <td>0.323854</td>\n",
       "      <td>0.428387</td>\n",
       "      <td>-0.347259</td>\n",
       "      <td>0.158731</td>\n",
       "      <td>0.192302</td>\n",
       "      <td>-0.367883</td>\n",
       "      <td>-0.027877</td>\n",
       "      <td>-0.088789</td>\n",
       "      <td>-0.312794</td>\n",
       "      <td>...</td>\n",
       "      <td>-0.270628</td>\n",
       "      <td>-0.242716</td>\n",
       "      <td>-0.280822</td>\n",
       "      <td>-0.228574</td>\n",
       "      <td>-0.233506</td>\n",
       "      <td>-0.271494</td>\n",
       "      <td>-0.307652</td>\n",
       "      <td>-0.289251</td>\n",
       "      <td>-0.207414</td>\n",
       "      <td>-0.235462</td>\n",
       "    </tr>\n",
       "    <tr>\n",
       "      <th>d12</th>\n",
       "      <td>-0.330435</td>\n",
       "      <td>-0.218336</td>\n",
       "      <td>0.015997</td>\n",
       "      <td>-0.421856</td>\n",
       "      <td>-0.246391</td>\n",
       "      <td>-0.100272</td>\n",
       "      <td>-0.434863</td>\n",
       "      <td>-0.276471</td>\n",
       "      <td>-0.210898</td>\n",
       "      <td>-0.375415</td>\n",
       "      <td>...</td>\n",
       "      <td>-0.263460</td>\n",
       "      <td>-0.242751</td>\n",
       "      <td>-0.278928</td>\n",
       "      <td>-0.256807</td>\n",
       "      <td>-0.235320</td>\n",
       "      <td>-0.276785</td>\n",
       "      <td>-0.307605</td>\n",
       "      <td>-0.306558</td>\n",
       "      <td>-0.212777</td>\n",
       "      <td>-0.237800</td>\n",
       "    </tr>\n",
       "    <tr>\n",
       "      <th>d13</th>\n",
       "      <td>1.076633</td>\n",
       "      <td>0.708173</td>\n",
       "      <td>-0.306423</td>\n",
       "      <td>0.152068</td>\n",
       "      <td>0.691656</td>\n",
       "      <td>-0.280137</td>\n",
       "      <td>0.262158</td>\n",
       "      <td>0.807838</td>\n",
       "      <td>-0.226376</td>\n",
       "      <td>0.304227</td>\n",
       "      <td>...</td>\n",
       "      <td>0.167943</td>\n",
       "      <td>0.325685</td>\n",
       "      <td>-0.234862</td>\n",
       "      <td>0.286796</td>\n",
       "      <td>0.398645</td>\n",
       "      <td>-0.151022</td>\n",
       "      <td>-0.303910</td>\n",
       "      <td>0.522455</td>\n",
       "      <td>0.575184</td>\n",
       "      <td>-0.128369</td>\n",
       "    </tr>\n",
       "    <tr>\n",
       "      <th>sky</th>\n",
       "      <td>-1.079590</td>\n",
       "      <td>-1.009662</td>\n",
       "      <td>-0.581441</td>\n",
       "      <td>-0.967423</td>\n",
       "      <td>-1.089051</td>\n",
       "      <td>-0.606038</td>\n",
       "      <td>-0.929879</td>\n",
       "      <td>-0.960771</td>\n",
       "      <td>-0.435113</td>\n",
       "      <td>-0.884936</td>\n",
       "      <td>...</td>\n",
       "      <td>-0.493816</td>\n",
       "      <td>-0.466583</td>\n",
       "      <td>-0.221916</td>\n",
       "      <td>-0.533451</td>\n",
       "      <td>-0.463711</td>\n",
       "      <td>-0.323369</td>\n",
       "      <td>-0.314613</td>\n",
       "      <td>-0.639296</td>\n",
       "      <td>-0.507736</td>\n",
       "      <td>-0.244044</td>\n",
       "    </tr>\n",
       "    <tr>\n",
       "      <th>temperature</th>\n",
       "      <td>-0.752836</td>\n",
       "      <td>-0.632342</td>\n",
       "      <td>-0.227956</td>\n",
       "      <td>-0.691666</td>\n",
       "      <td>-0.666984</td>\n",
       "      <td>-0.208038</td>\n",
       "      <td>-0.611313</td>\n",
       "      <td>-0.539809</td>\n",
       "      <td>-0.090292</td>\n",
       "      <td>-0.549141</td>\n",
       "      <td>...</td>\n",
       "      <td>-0.266361</td>\n",
       "      <td>-0.246281</td>\n",
       "      <td>-0.061376</td>\n",
       "      <td>-0.376378</td>\n",
       "      <td>-0.274024</td>\n",
       "      <td>-0.125498</td>\n",
       "      <td>-0.146893</td>\n",
       "      <td>-0.406961</td>\n",
       "      <td>-0.255922</td>\n",
       "      <td>-0.052059</td>\n",
       "    </tr>\n",
       "    <tr>\n",
       "      <th>humidity</th>\n",
       "      <td>-0.773351</td>\n",
       "      <td>-0.749985</td>\n",
       "      <td>-0.346661</td>\n",
       "      <td>-0.616459</td>\n",
       "      <td>-0.881894</td>\n",
       "      <td>-0.440186</td>\n",
       "      <td>-0.604521</td>\n",
       "      <td>-0.789219</td>\n",
       "      <td>-0.313497</td>\n",
       "      <td>-0.586535</td>\n",
       "      <td>...</td>\n",
       "      <td>-0.232045</td>\n",
       "      <td>-0.248519</td>\n",
       "      <td>0.002000</td>\n",
       "      <td>-0.244974</td>\n",
       "      <td>-0.253234</td>\n",
       "      <td>-0.059496</td>\n",
       "      <td>0.089633</td>\n",
       "      <td>-0.284452</td>\n",
       "      <td>-0.305192</td>\n",
       "      <td>-0.044578</td>\n",
       "    </tr>\n",
       "    <tr>\n",
       "      <th>pressure</th>\n",
       "      <td>3.577196</td>\n",
       "      <td>3.770207</td>\n",
       "      <td>4.526726</td>\n",
       "      <td>4.017421</td>\n",
       "      <td>3.889641</td>\n",
       "      <td>4.572319</td>\n",
       "      <td>4.036225</td>\n",
       "      <td>4.133364</td>\n",
       "      <td>4.685310</td>\n",
       "      <td>4.092364</td>\n",
       "      <td>...</td>\n",
       "      <td>4.527734</td>\n",
       "      <td>4.496342</td>\n",
       "      <td>4.730632</td>\n",
       "      <td>4.543569</td>\n",
       "      <td>4.526783</td>\n",
       "      <td>4.674614</td>\n",
       "      <td>4.524722</td>\n",
       "      <td>4.484899</td>\n",
       "      <td>4.545038</td>\n",
       "      <td>4.749902</td>\n",
       "    </tr>\n",
       "    <tr>\n",
       "      <th>wind_speed</th>\n",
       "      <td>-0.931512</td>\n",
       "      <td>-0.862516</td>\n",
       "      <td>-0.447150</td>\n",
       "      <td>-0.828690</td>\n",
       "      <td>-0.938803</td>\n",
       "      <td>-0.482784</td>\n",
       "      <td>-0.807414</td>\n",
       "      <td>-0.846320</td>\n",
       "      <td>-0.385816</td>\n",
       "      <td>-0.751808</td>\n",
       "      <td>...</td>\n",
       "      <td>-0.488187</td>\n",
       "      <td>-0.481007</td>\n",
       "      <td>-0.290315</td>\n",
       "      <td>-0.562302</td>\n",
       "      <td>-0.501635</td>\n",
       "      <td>-0.343800</td>\n",
       "      <td>-0.306233</td>\n",
       "      <td>-0.606352</td>\n",
       "      <td>-0.514800</td>\n",
       "      <td>-0.301358</td>\n",
       "    </tr>\n",
       "    <tr>\n",
       "      <th>wind_direction</th>\n",
       "      <td>0.177532</td>\n",
       "      <td>-0.024924</td>\n",
       "      <td>-0.277615</td>\n",
       "      <td>0.146275</td>\n",
       "      <td>0.156439</td>\n",
       "      <td>0.373212</td>\n",
       "      <td>0.159337</td>\n",
       "      <td>0.354406</td>\n",
       "      <td>0.605421</td>\n",
       "      <td>0.301404</td>\n",
       "      <td>...</td>\n",
       "      <td>0.841637</td>\n",
       "      <td>0.378684</td>\n",
       "      <td>0.338720</td>\n",
       "      <td>0.573219</td>\n",
       "      <td>0.944679</td>\n",
       "      <td>0.392692</td>\n",
       "      <td>-0.074145</td>\n",
       "      <td>0.588515</td>\n",
       "      <td>0.877986</td>\n",
       "      <td>0.379288</td>\n",
       "    </tr>\n",
       "    <tr>\n",
       "      <th>visibility</th>\n",
       "      <td>-0.903726</td>\n",
       "      <td>-0.827401</td>\n",
       "      <td>-0.422995</td>\n",
       "      <td>-0.800761</td>\n",
       "      <td>-0.912846</td>\n",
       "      <td>-0.466519</td>\n",
       "      <td>-0.775357</td>\n",
       "      <td>-0.819542</td>\n",
       "      <td>-0.352041</td>\n",
       "      <td>-0.722042</td>\n",
       "      <td>...</td>\n",
       "      <td>-0.461112</td>\n",
       "      <td>-0.462942</td>\n",
       "      <td>-0.270474</td>\n",
       "      <td>-0.533318</td>\n",
       "      <td>-0.484245</td>\n",
       "      <td>-0.326007</td>\n",
       "      <td>-0.266013</td>\n",
       "      <td>-0.572242</td>\n",
       "      <td>-0.491048</td>\n",
       "      <td>-0.257698</td>\n",
       "    </tr>\n",
       "    <tr>\n",
       "      <th>storm_dist</th>\n",
       "      <td>-0.878465</td>\n",
       "      <td>-0.655957</td>\n",
       "      <td>-0.386757</td>\n",
       "      <td>0.552040</td>\n",
       "      <td>0.085269</td>\n",
       "      <td>0.313233</td>\n",
       "      <td>0.038263</td>\n",
       "      <td>-0.281507</td>\n",
       "      <td>-0.185110</td>\n",
       "      <td>-0.484115</td>\n",
       "      <td>...</td>\n",
       "      <td>-0.477941</td>\n",
       "      <td>-0.497432</td>\n",
       "      <td>-0.294931</td>\n",
       "      <td>-0.556165</td>\n",
       "      <td>-0.509670</td>\n",
       "      <td>-0.330339</td>\n",
       "      <td>-0.256967</td>\n",
       "      <td>-0.584703</td>\n",
       "      <td>-0.522036</td>\n",
       "      <td>-0.305555</td>\n",
       "    </tr>\n",
       "    <tr>\n",
       "      <th>storm_direction</th>\n",
       "      <td>0.250184</td>\n",
       "      <td>-0.212046</td>\n",
       "      <td>0.656019</td>\n",
       "      <td>0.306228</td>\n",
       "      <td>0.411033</td>\n",
       "      <td>0.434832</td>\n",
       "      <td>0.377558</td>\n",
       "      <td>0.225860</td>\n",
       "      <td>0.171887</td>\n",
       "      <td>-0.163118</td>\n",
       "      <td>...</td>\n",
       "      <td>0.727779</td>\n",
       "      <td>1.136191</td>\n",
       "      <td>0.228886</td>\n",
       "      <td>0.677134</td>\n",
       "      <td>0.436783</td>\n",
       "      <td>0.600446</td>\n",
       "      <td>1.328442</td>\n",
       "      <td>0.533337</td>\n",
       "      <td>0.092625</td>\n",
       "      <td>-0.260623</td>\n",
       "    </tr>\n",
       "    <tr>\n",
       "      <th>day</th>\n",
       "      <td>-0.947805</td>\n",
       "      <td>-0.869296</td>\n",
       "      <td>-0.466950</td>\n",
       "      <td>-0.838646</td>\n",
       "      <td>-0.948574</td>\n",
       "      <td>-0.501637</td>\n",
       "      <td>-0.810281</td>\n",
       "      <td>-0.852887</td>\n",
       "      <td>-0.383553</td>\n",
       "      <td>-0.753067</td>\n",
       "      <td>...</td>\n",
       "      <td>-0.490360</td>\n",
       "      <td>-0.490165</td>\n",
       "      <td>-0.288361</td>\n",
       "      <td>-0.563553</td>\n",
       "      <td>-0.502122</td>\n",
       "      <td>-0.336364</td>\n",
       "      <td>-0.290294</td>\n",
       "      <td>-0.598938</td>\n",
       "      <td>-0.506566</td>\n",
       "      <td>-0.285585</td>\n",
       "    </tr>\n",
       "    <tr>\n",
       "      <th>hour</th>\n",
       "      <td>-0.930139</td>\n",
       "      <td>-0.847419</td>\n",
       "      <td>-0.437730</td>\n",
       "      <td>-0.829208</td>\n",
       "      <td>-0.930342</td>\n",
       "      <td>-0.476740</td>\n",
       "      <td>-0.805571</td>\n",
       "      <td>-0.838911</td>\n",
       "      <td>-0.363521</td>\n",
       "      <td>-0.753176</td>\n",
       "      <td>...</td>\n",
       "      <td>-0.486174</td>\n",
       "      <td>-0.476074</td>\n",
       "      <td>-0.268284</td>\n",
       "      <td>-0.564377</td>\n",
       "      <td>-0.492975</td>\n",
       "      <td>-0.321056</td>\n",
       "      <td>-0.299816</td>\n",
       "      <td>-0.604811</td>\n",
       "      <td>-0.502374</td>\n",
       "      <td>-0.275600</td>\n",
       "    </tr>\n",
       "  </tbody>\n",
       "</table>\n",
       "<p>24 rows × 142 columns</p>\n",
       "</div>"
      ],
      "text/plain": [
       "Time             2019-03-25 06:00:00  2019-03-25 12:00:00  \\\n",
       "d1                         -0.423395            -0.468755   \n",
       "d2                         -0.406367            -0.468865   \n",
       "d3                         -0.178872            -0.305899   \n",
       "d4                          0.137489            -0.210798   \n",
       "d5                          0.643990            -0.051430   \n",
       "d6                          0.971926             0.142510   \n",
       "d7                          1.075615             0.598690   \n",
       "d8                          0.534628             0.843591   \n",
       "d9                          0.241512             1.161473   \n",
       "d10                         0.034915             0.867132   \n",
       "d11                        -0.185129             0.323854   \n",
       "d12                        -0.330435            -0.218336   \n",
       "d13                         1.076633             0.708173   \n",
       "sky                        -1.079590            -1.009662   \n",
       "temperature                -0.752836            -0.632342   \n",
       "humidity                   -0.773351            -0.749985   \n",
       "pressure                    3.577196             3.770207   \n",
       "wind_speed                 -0.931512            -0.862516   \n",
       "wind_direction              0.177532            -0.024924   \n",
       "visibility                 -0.903726            -0.827401   \n",
       "storm_dist                 -0.878465            -0.655957   \n",
       "storm_direction             0.250184            -0.212046   \n",
       "day                        -0.947805            -0.869296   \n",
       "hour                       -0.930139            -0.847419   \n",
       "\n",
       "Time             2019-03-25 18:00:00  2019-03-26 06:00:00  \\\n",
       "d1                         -0.328997            -0.493955   \n",
       "d2                         -0.385066            -0.451046   \n",
       "d3                         -0.373708            -0.019390   \n",
       "d4                         -0.367804             0.578201   \n",
       "d5                         -0.363737             0.969959   \n",
       "d6                         -0.359825             0.794542   \n",
       "d7                         -0.312809             0.364142   \n",
       "d8                         -0.085559            -0.123684   \n",
       "d9                          0.342542            -0.195621   \n",
       "d10                         0.509513            -0.255211   \n",
       "d11                         0.428387            -0.347259   \n",
       "d12                         0.015997            -0.421856   \n",
       "d13                        -0.306423             0.152068   \n",
       "sky                        -0.581441            -0.967423   \n",
       "temperature                -0.227956            -0.691666   \n",
       "humidity                   -0.346661            -0.616459   \n",
       "pressure                    4.526726             4.017421   \n",
       "wind_speed                 -0.447150            -0.828690   \n",
       "wind_direction             -0.277615             0.146275   \n",
       "visibility                 -0.422995            -0.800761   \n",
       "storm_dist                 -0.386757             0.552040   \n",
       "storm_direction             0.656019             0.306228   \n",
       "day                        -0.466950            -0.838646   \n",
       "hour                       -0.437730            -0.829208   \n",
       "\n",
       "Time             2019-03-26 12:00:00  2019-03-26 18:00:00  \\\n",
       "d1                         -0.445691            -0.348992   \n",
       "d2                         -0.449265            -0.393304   \n",
       "d3                         -0.293801            -0.375481   \n",
       "d4                         -0.200277            -0.366760   \n",
       "d5                         -0.045780            -0.356869   \n",
       "d6                          0.113478            -0.355886   \n",
       "d7                          0.503747            -0.316902   \n",
       "d8                          0.638552            -0.171631   \n",
       "d9                          0.827257             0.124394   \n",
       "d10                         0.573896             0.237882   \n",
       "d11                         0.158731             0.192302   \n",
       "d12                        -0.246391            -0.100272   \n",
       "d13                         0.691656            -0.280137   \n",
       "sky                        -1.089051            -0.606038   \n",
       "temperature                -0.666984            -0.208038   \n",
       "humidity                   -0.881894            -0.440186   \n",
       "pressure                    3.889641             4.572319   \n",
       "wind_speed                 -0.938803            -0.482784   \n",
       "wind_direction              0.156439             0.373212   \n",
       "visibility                 -0.912846            -0.466519   \n",
       "storm_dist                  0.085269             0.313233   \n",
       "storm_direction             0.411033             0.434832   \n",
       "day                        -0.948574            -0.501637   \n",
       "hour                       -0.930342            -0.476740   \n",
       "\n",
       "Time             2019-03-27 06:00:00  2019-03-27 12:00:00  \\\n",
       "d1                         -0.498008            -0.405132   \n",
       "d2                         -0.447592            -0.396604   \n",
       "d3                         -0.004107            -0.253358   \n",
       "d4                          0.622759            -0.165120   \n",
       "d5                          1.050303            -0.009324   \n",
       "d6                          0.856799             0.153819   \n",
       "d7                          0.377907             0.482762   \n",
       "d8                         -0.144551             0.500804   \n",
       "d9                         -0.248052             0.523420   \n",
       "d10                        -0.291915             0.280580   \n",
       "d11                        -0.367883            -0.027877   \n",
       "d12                        -0.434863            -0.276471   \n",
       "d13                         0.262158             0.807838   \n",
       "sky                        -0.929879            -0.960771   \n",
       "temperature                -0.611313            -0.539809   \n",
       "humidity                   -0.604521            -0.789219   \n",
       "pressure                    4.036225             4.133364   \n",
       "wind_speed                 -0.807414            -0.846320   \n",
       "wind_direction              0.159337             0.354406   \n",
       "visibility                 -0.775357            -0.819542   \n",
       "storm_dist                  0.038263            -0.281507   \n",
       "storm_direction             0.377558             0.225860   \n",
       "day                        -0.810281            -0.852887   \n",
       "hour                       -0.805571            -0.838911   \n",
       "\n",
       "Time             2019-03-27 18:00:00  2019-03-28 06:00:00  \\\n",
       "d1                         -0.306637            -0.434160   \n",
       "d2                         -0.318060            -0.375592   \n",
       "d3                         -0.301748             0.075380   \n",
       "d4                         -0.295856             0.685336   \n",
       "d5                         -0.288372             1.068029   \n",
       "d6                         -0.285813             0.846922   \n",
       "d7                         -0.264590             0.364592   \n",
       "d8                         -0.212257            -0.132273   \n",
       "d9                         -0.093513            -0.212470   \n",
       "d10                        -0.060763            -0.247611   \n",
       "d11                        -0.088789            -0.312794   \n",
       "d12                        -0.210898            -0.375415   \n",
       "d13                        -0.226376             0.304227   \n",
       "sky                        -0.435113            -0.884936   \n",
       "temperature                -0.090292            -0.549141   \n",
       "humidity                   -0.313497            -0.586535   \n",
       "pressure                    4.685310             4.092364   \n",
       "wind_speed                 -0.385816            -0.751808   \n",
       "wind_direction              0.605421             0.301404   \n",
       "visibility                 -0.352041            -0.722042   \n",
       "storm_dist                 -0.185110            -0.484115   \n",
       "storm_direction             0.171887            -0.163118   \n",
       "day                        -0.383553            -0.753067   \n",
       "hour                       -0.363521            -0.753176   \n",
       "\n",
       "Time                    ...           2019-05-08 06:00:00  \\\n",
       "d1                      ...                     -0.272231   \n",
       "d2                      ...                     -0.263057   \n",
       "d3                      ...                     -0.205847   \n",
       "d4                      ...                     -0.164568   \n",
       "d5                      ...                     -0.164256   \n",
       "d6                      ...                     -0.199731   \n",
       "d7                      ...                     -0.222699   \n",
       "d8                      ...                     -0.282784   \n",
       "d9                      ...                     -0.278497   \n",
       "d10                     ...                     -0.281340   \n",
       "d11                     ...                     -0.270628   \n",
       "d12                     ...                     -0.263460   \n",
       "d13                     ...                      0.167943   \n",
       "sky                     ...                     -0.493816   \n",
       "temperature             ...                     -0.266361   \n",
       "humidity                ...                     -0.232045   \n",
       "pressure                ...                      4.527734   \n",
       "wind_speed              ...                     -0.488187   \n",
       "wind_direction          ...                      0.841637   \n",
       "visibility              ...                     -0.461112   \n",
       "storm_dist              ...                     -0.477941   \n",
       "storm_direction         ...                      0.727779   \n",
       "day                     ...                     -0.490360   \n",
       "hour                    ...                     -0.486174   \n",
       "\n",
       "Time             2019-05-08 12:00:00  2019-05-08 18:00:00  \\\n",
       "d1                         -0.266286            -0.281977   \n",
       "d2                         -0.284918            -0.281763   \n",
       "d3                         -0.276537            -0.281723   \n",
       "d4                         -0.277341            -0.281910   \n",
       "d5                         -0.255562            -0.281567   \n",
       "d6                         -0.227276            -0.278297   \n",
       "d7                         -0.186715            -0.278384   \n",
       "d8                         -0.227262            -0.281592   \n",
       "d9                         -0.232968            -0.281344   \n",
       "d10                        -0.247567            -0.281412   \n",
       "d11                        -0.242716            -0.280822   \n",
       "d12                        -0.242751            -0.278928   \n",
       "d13                         0.325685            -0.234862   \n",
       "sky                        -0.466583            -0.221916   \n",
       "temperature                -0.246281            -0.061376   \n",
       "humidity                   -0.248519             0.002000   \n",
       "pressure                    4.496342             4.730632   \n",
       "wind_speed                 -0.481007            -0.290315   \n",
       "wind_direction              0.378684             0.338720   \n",
       "visibility                 -0.462942            -0.270474   \n",
       "storm_dist                 -0.497432            -0.294931   \n",
       "storm_direction             1.136191             0.228886   \n",
       "day                        -0.490165            -0.288361   \n",
       "hour                       -0.476074            -0.268284   \n",
       "\n",
       "Time             2019-05-09 06:00:00  2019-05-09 12:00:00  \\\n",
       "d1                         -0.287951            -0.253103   \n",
       "d2                         -0.288530            -0.268719   \n",
       "d3                         -0.213332            -0.253441   \n",
       "d4                         -0.139365            -0.255097   \n",
       "d5                         -0.079125            -0.248222   \n",
       "d6                         -0.075393            -0.231854   \n",
       "d7                         -0.061682            -0.185854   \n",
       "d8                         -0.164008            -0.223873   \n",
       "d9                         -0.157600            -0.209558   \n",
       "d10                        -0.193835            -0.226726   \n",
       "d11                        -0.228574            -0.233506   \n",
       "d12                        -0.256807            -0.235320   \n",
       "d13                         0.286796             0.398645   \n",
       "sky                        -0.533451            -0.463711   \n",
       "temperature                -0.376378            -0.274024   \n",
       "humidity                   -0.244974            -0.253234   \n",
       "pressure                    4.543569             4.526783   \n",
       "wind_speed                 -0.562302            -0.501635   \n",
       "wind_direction              0.573219             0.944679   \n",
       "visibility                 -0.533318            -0.484245   \n",
       "storm_dist                 -0.556165            -0.509670   \n",
       "storm_direction             0.677134             0.436783   \n",
       "day                        -0.563553            -0.502122   \n",
       "hour                       -0.564377            -0.492975   \n",
       "\n",
       "Time             2019-05-09 18:00:00  2019-05-10 00:00:00  \\\n",
       "d1                         -0.289557            -0.308633   \n",
       "d2                         -0.293965            -0.307490   \n",
       "d3                         -0.290665            -0.307795   \n",
       "d4                         -0.288971            -0.307395   \n",
       "d5                         -0.284876            -0.307471   \n",
       "d6                         -0.277421            -0.304434   \n",
       "d7                         -0.266596            -0.305700   \n",
       "d8                         -0.275322            -0.306300   \n",
       "d9                         -0.266497            -0.306548   \n",
       "d10                        -0.268655            -0.306890   \n",
       "d11                        -0.271494            -0.307652   \n",
       "d12                        -0.276785            -0.307605   \n",
       "d13                        -0.151022            -0.303910   \n",
       "sky                        -0.323369            -0.314613   \n",
       "temperature                -0.125498            -0.146893   \n",
       "humidity                   -0.059496             0.089633   \n",
       "pressure                    4.674614             4.524722   \n",
       "wind_speed                 -0.343800            -0.306233   \n",
       "wind_direction              0.392692            -0.074145   \n",
       "visibility                 -0.326007            -0.266013   \n",
       "storm_dist                 -0.330339            -0.256967   \n",
       "storm_direction             0.600446             1.328442   \n",
       "day                        -0.336364            -0.290294   \n",
       "hour                       -0.321056            -0.299816   \n",
       "\n",
       "Time             2019-05-10 06:00:00  2019-05-10 12:00:00  2019-05-10 18:00:00  \n",
       "d1                         -0.321329            -0.240186            -0.251637  \n",
       "d2                         -0.270116            -0.258114            -0.258487  \n",
       "d3                         -0.095206            -0.240062            -0.257985  \n",
       "d4                          0.072922            -0.237064            -0.258802  \n",
       "d5                          0.124430            -0.213753            -0.256484  \n",
       "d6                          0.037240            -0.185178            -0.250491  \n",
       "d7                         -0.057369            -0.131066            -0.242455  \n",
       "d8                         -0.223293            -0.179137            -0.247235  \n",
       "d9                         -0.236614            -0.179708            -0.239454  \n",
       "d10                        -0.266308            -0.200699            -0.237429  \n",
       "d11                        -0.289251            -0.207414            -0.235462  \n",
       "d12                        -0.306558            -0.212777            -0.237800  \n",
       "d13                         0.522455             0.575184            -0.128369  \n",
       "sky                        -0.639296            -0.507736            -0.244044  \n",
       "temperature                -0.406961            -0.255922            -0.052059  \n",
       "humidity                   -0.284452            -0.305192            -0.044578  \n",
       "pressure                    4.484899             4.545038             4.749902  \n",
       "wind_speed                 -0.606352            -0.514800            -0.301358  \n",
       "wind_direction              0.588515             0.877986             0.379288  \n",
       "visibility                 -0.572242            -0.491048            -0.257698  \n",
       "storm_dist                 -0.584703            -0.522036            -0.305555  \n",
       "storm_direction             0.533337             0.092625            -0.260623  \n",
       "day                        -0.598938            -0.506566            -0.285585  \n",
       "hour                       -0.604811            -0.502374            -0.275600  \n",
       "\n",
       "[24 rows x 142 columns]"
      ]
     },
     "execution_count": 310,
     "metadata": {},
     "output_type": "execute_result"
    }
   ],
   "source": [
    "scaled_mat"
   ]
  },
  {
   "cell_type": "code",
   "execution_count": 177,
   "metadata": {},
   "outputs": [
    {
     "data": {
      "text/plain": [
       "<matplotlib.axes._subplots.AxesSubplot at 0x7fc6cef5a9e8>"
      ]
     },
     "execution_count": 177,
     "metadata": {},
     "output_type": "execute_result"
    },
    {
     "data": {
      "text/plain": [
       "<Figure size 576x1440 with 0 Axes>"
      ]
     },
     "metadata": {},
     "output_type": "display_data"
    },
    {
     "data": {
      "image/png": "[encoded data removed]",
      "text/plain": [
       "<Figure size 432x288 with 1 Axes>"
      ]
     },
     "metadata": {
      "needs_background": "light"
     },
     "output_type": "display_data"
    }
   ],
   "source": [
    "plt.figure(figsize=(8,20))\n",
    "data_hour.transpose().iloc[:,0:14].plot()"
   ]
  },
  {
   "cell_type": "code",
   "execution_count": 311,
   "metadata": {},
   "outputs": [],
   "source": [
    "def plot_BIC(matrix,K):\n",
    "    from sklearn import mixture\n",
    "    BIC=[]\n",
    "    for k in K:\n",
    "        model=mixture.GaussianMixture(n_components=k,init_params='kmeans')\n",
    "        model.fit(matrix)\n",
    "        BIC.append(model.bic(matrix))\n",
    "    fig, ax = plt.subplots(figsize=(8, 6))\n",
    "    plt.plot(K,BIC,'-cx')\n",
    "    plt.ylabel(\"BIC score\")\n",
    "    plt.xlabel(\"k\")\n",
    "    plt.title(\"BIC scoring for K-means cell's behaviour\")\n",
    "    return(BIC)"
   ]
  },
  {
   "cell_type": "code",
   "execution_count": 312,
   "metadata": {},
   "outputs": [
    {
     "data": {
      "text/plain": [
       "(24, 142)"
      ]
     },
     "execution_count": 312,
     "metadata": {},
     "output_type": "execute_result"
    }
   ],
   "source": [
    "scaled_mat.shape"
   ]
  },
  {
   "cell_type": "code",
   "execution_count": 319,
   "metadata": {},
   "outputs": [
    {
     "data": {
      "image/png": "[encoded data removed]",
      "text/plain": [
       "<Figure size 576x432 with 1 Axes>"
      ]
     },
     "metadata": {
      "needs_background": "light"
     },
     "output_type": "display_data"
    }
   ],
   "source": [
    "K = range(2,22)\n",
    "BIC = plot_BIC(scaled_mat,K)"
   ]
  },
  {
   "cell_type": "code",
   "execution_count": 316,
   "metadata": {},
   "outputs": [
    {
     "name": "stdout",
     "output_type": "stream",
     "text": [
      "4    6\n",
      "3    6\n",
      "2    6\n",
      "0    5\n",
      "1    1\n",
      "Name: cluster, dtype: int64\n"
     ]
    }
   ],
   "source": [
    "from sklearn.cluster import KMeans\n",
    "from sklearn.decomposition import PCA\n",
    "from mpl_toolkits.mplot3d import Axes3D\n",
    "cluster = KMeans(n_clusters=5,random_state=217)\n",
    "scaled_mat['cluster'] = cluster.fit_predict(scaled_mat.iloc[:, 0:14])\n",
    "print(scaled_mat.cluster.value_counts())"
   ]
  },
  {
   "cell_type": "code",
   "execution_count": 317,
   "metadata": {},
   "outputs": [
    {
     "data": {
      "text/plain": [
       "(5, 14)"
      ]
     },
     "execution_count": 317,
     "metadata": {},
     "output_type": "execute_result"
    }
   ],
   "source": [
    "cluster.cluster_centers_.shape"
   ]
  },
  {
   "cell_type": "code",
   "execution_count": 202,
   "metadata": {},
   "outputs": [
    {
     "name": "stdout",
     "output_type": "stream",
     "text": [
      "[[0.         1.77548271 1.68212898 1.13903163]\n",
      " [1.77548271 0.         1.67278853 1.5274459 ]\n",
      " [1.68212898 1.67278853 0.         2.19686515]\n",
      " [1.13903163 1.5274459  2.19686515 0.        ]]\n"
     ]
    }
   ],
   "source": [
    "from sklearn.metrics.pairwise import euclidean_distances\n",
    "distance = euclidean_distances(cluster.cluster_centers_, cluster.cluster_centers_)\n",
    "print(distance)"
   ]
  },
  {
   "cell_type": "code",
   "execution_count": 210,
   "metadata": {},
   "outputs": [
    {
     "data": {
      "text/plain": [
       "(4, 22)"
      ]
     },
     "execution_count": 210,
     "metadata": {},
     "output_type": "execute_result"
    }
   ],
   "source": [
    "cluster.cluster_centers_.shape"
   ]
  },
  {
   "cell_type": "code",
   "execution_count": 205,
   "metadata": {
    "scrolled": true
   },
   "outputs": [
    {
     "data": {
      "text/plain": [
       "(42, 3)"
      ]
     },
     "execution_count": 205,
     "metadata": {},
     "output_type": "execute_result"
    }
   ],
   "source": [
    "pca.transform(scaled_mat).shape"
   ]
  },
  {
   "cell_type": "code",
   "execution_count": 203,
   "metadata": {},
   "outputs": [
    {
     "ename": "ValueError",
     "evalue": "operands could not be broadcast together with shapes (4,22) (25,) ",
     "output_type": "error",
     "traceback": [
      "\u001b[0;31m---------------------------------------------------------------------------\u001b[0m",
      "\u001b[0;31mValueError\u001b[0m                                Traceback (most recent call last)",
      "\u001b[0;32m<ipython-input-203-4fedec88084b>\u001b[0m in \u001b[0;36m<module>\u001b[0;34m\u001b[0m\n\u001b[1;32m      8\u001b[0m \u001b[0;34m\u001b[0m\u001b[0m\n\u001b[1;32m      9\u001b[0m \u001b[0;31m# Getting the center of each cluster for plotting\u001b[0m\u001b[0;34m\u001b[0m\u001b[0;34m\u001b[0m\u001b[0m\n\u001b[0;32m---> 10\u001b[0;31m \u001b[0mcluster_centers\u001b[0m \u001b[0;34m=\u001b[0m \u001b[0mpca\u001b[0m\u001b[0;34m.\u001b[0m\u001b[0mtransform\u001b[0m\u001b[0;34m(\u001b[0m\u001b[0mcluster\u001b[0m\u001b[0;34m.\u001b[0m\u001b[0mcluster_centers_\u001b[0m\u001b[0;34m)\u001b[0m\u001b[0;34m\u001b[0m\u001b[0m\n\u001b[0m\u001b[1;32m     11\u001b[0m \u001b[0mcluster_centers\u001b[0m \u001b[0;34m=\u001b[0m \u001b[0mpd\u001b[0m\u001b[0;34m.\u001b[0m\u001b[0mDataFrame\u001b[0m\u001b[0;34m(\u001b[0m\u001b[0mcluster_centers\u001b[0m\u001b[0;34m,\u001b[0m \u001b[0mcolumns\u001b[0m\u001b[0;34m=\u001b[0m\u001b[0;34m[\u001b[0m\u001b[0;34m'x'\u001b[0m\u001b[0;34m,\u001b[0m \u001b[0;34m'y'\u001b[0m\u001b[0;34m,\u001b[0m \u001b[0;34m'z'\u001b[0m\u001b[0;34m]\u001b[0m\u001b[0;34m)\u001b[0m\u001b[0;34m\u001b[0m\u001b[0m\n\u001b[1;32m     12\u001b[0m \u001b[0mcluster_centers\u001b[0m\u001b[0;34m[\u001b[0m\u001b[0;34m'cluster'\u001b[0m\u001b[0;34m]\u001b[0m \u001b[0;34m=\u001b[0m \u001b[0mrange\u001b[0m\u001b[0;34m(\u001b[0m\u001b[0;36m0\u001b[0m\u001b[0;34m,\u001b[0m \u001b[0mlen\u001b[0m\u001b[0;34m(\u001b[0m\u001b[0mcluster_centers\u001b[0m\u001b[0;34m)\u001b[0m\u001b[0;34m)\u001b[0m\u001b[0;34m\u001b[0m\u001b[0m\n",
      "\u001b[0;32m~/anaconda3/lib/python3.6/site-packages/sklearn/decomposition/base.py\u001b[0m in \u001b[0;36mtransform\u001b[0;34m(self, X)\u001b[0m\n\u001b[1;32m    128\u001b[0m         \u001b[0mX\u001b[0m \u001b[0;34m=\u001b[0m \u001b[0mcheck_array\u001b[0m\u001b[0;34m(\u001b[0m\u001b[0mX\u001b[0m\u001b[0;34m)\u001b[0m\u001b[0;34m\u001b[0m\u001b[0m\n\u001b[1;32m    129\u001b[0m         \u001b[0;32mif\u001b[0m \u001b[0mself\u001b[0m\u001b[0;34m.\u001b[0m\u001b[0mmean_\u001b[0m \u001b[0;32mis\u001b[0m \u001b[0;32mnot\u001b[0m \u001b[0;32mNone\u001b[0m\u001b[0;34m:\u001b[0m\u001b[0;34m\u001b[0m\u001b[0m\n\u001b[0;32m--> 130\u001b[0;31m             \u001b[0mX\u001b[0m \u001b[0;34m=\u001b[0m \u001b[0mX\u001b[0m \u001b[0;34m-\u001b[0m \u001b[0mself\u001b[0m\u001b[0;34m.\u001b[0m\u001b[0mmean_\u001b[0m\u001b[0;34m\u001b[0m\u001b[0m\n\u001b[0m\u001b[1;32m    131\u001b[0m         \u001b[0mX_transformed\u001b[0m \u001b[0;34m=\u001b[0m \u001b[0mnp\u001b[0m\u001b[0;34m.\u001b[0m\u001b[0mdot\u001b[0m\u001b[0;34m(\u001b[0m\u001b[0mX\u001b[0m\u001b[0;34m,\u001b[0m \u001b[0mself\u001b[0m\u001b[0;34m.\u001b[0m\u001b[0mcomponents_\u001b[0m\u001b[0;34m.\u001b[0m\u001b[0mT\u001b[0m\u001b[0;34m)\u001b[0m\u001b[0;34m\u001b[0m\u001b[0m\n\u001b[1;32m    132\u001b[0m         \u001b[0;32mif\u001b[0m \u001b[0mself\u001b[0m\u001b[0;34m.\u001b[0m\u001b[0mwhiten\u001b[0m\u001b[0;34m:\u001b[0m\u001b[0;34m\u001b[0m\u001b[0m\n",
      "\u001b[0;31mValueError\u001b[0m: operands could not be broadcast together with shapes (4,22) (25,) "
     ]
    }
   ],
   "source": [
    "\n",
    "\n",
    "# Reduction dimention of the data using PCA\n",
    "pca = PCA(n_components=3)\n",
    "scaled_mat['x'] = pca.fit_transform(scaled_mat)[:,0]\n",
    "scaled_mat['y'] = pca.fit_transform(scaled_mat)[:,1]\n",
    "scaled_mat['z'] = pca.fit_transform(scaled_mat)[:,2]\n",
    "\n",
    "# Getting the center of each cluster for plotting\n",
    "cluster_centers = pca.transform(cluster.cluster_centers_)\n",
    "cluster_centers = pd.DataFrame(cluster_centers, columns=['x', 'y', 'z'])\n",
    "cluster_centers['cluster'] = range(0, len(cluster_centers))\n",
    "print(cluster_centers)\n",
    "\n"
   ]
  },
  {
   "cell_type": "code",
   "execution_count": 140,
   "metadata": {},
   "outputs": [
    {
     "data": {
      "text/plain": [
       "<matplotlib.colorbar.Colorbar at 0x7fc6dace8dd8>"
      ]
     },
     "execution_count": 140,
     "metadata": {},
     "output_type": "execute_result"
    },
    {
     "data": {
      "image/png": "[encoded data removed]",
      "text/plain": [
       "<Figure size 576x432 with 2 Axes>"
      ]
     },
     "metadata": {
      "needs_background": "light"
     },
     "output_type": "display_data"
    }
   ],
   "source": [
    "\n",
    "corr = scaled_mat.iloc[0:14,:].corr()\n",
    "fig, ax = plt.subplots(figsize=(8, 6))\n",
    "cax=ax.matshow(corr,vmin=-1,vmax=1)\n",
    "ax.matshow(corr)\n",
    "plt.xticks(range(len(corr.columns)), corr.columns)\n",
    "plt.yticks(range(len(corr.columns)), corr.columns)\n",
    "plt.xticks(rotation=90)\n",
    "plt.colorbar(cax)\n"
   ]
  },
  {
   "cell_type": "markdown",
   "metadata": {},
   "source": [
    "### Clustering Data Points"
   ]
  },
  {
   "cell_type": "code",
   "execution_count": 244,
   "metadata": {},
   "outputs": [],
   "source": [
    "from statsmodels.tsa.seasonal import seasonal_decompose"
   ]
  },
  {
   "cell_type": "code",
   "execution_count": 251,
   "metadata": {},
   "outputs": [
    {
     "ename": "ValueError",
     "evalue": "You must specify a freq or x must be a pandas object with a timeseries index with a freq not set to None",
     "output_type": "error",
     "traceback": [
      "\u001b[0;31m---------------------------------------------------------------------------\u001b[0m",
      "\u001b[0;31mValueError\u001b[0m                                Traceback (most recent call last)",
      "\u001b[0;32m<ipython-input-251-1a557d95865f>\u001b[0m in \u001b[0;36m<module>\u001b[0;34m\u001b[0m\n\u001b[0;32m----> 1\u001b[0;31m \u001b[0mseasonal_decompose\u001b[0m\u001b[0;34m(\u001b[0m\u001b[0mpd\u001b[0m\u001b[0;34m.\u001b[0m\u001b[0mSeries\u001b[0m\u001b[0;34m(\u001b[0m\u001b[0mdata\u001b[0m\u001b[0;34m.\u001b[0m\u001b[0miloc\u001b[0m\u001b[0;34m[\u001b[0m\u001b[0;34m:\u001b[0m\u001b[0;34m,\u001b[0m\u001b[0;36m0\u001b[0m\u001b[0;34m]\u001b[0m\u001b[0;34m,\u001b[0m \u001b[0mindex\u001b[0m\u001b[0;34m=\u001b[0m\u001b[0mdata\u001b[0m\u001b[0;34m.\u001b[0m\u001b[0mindex\u001b[0m\u001b[0;34m)\u001b[0m\u001b[0;34m,\u001b[0m \u001b[0mmodel\u001b[0m \u001b[0;34m=\u001b[0m \u001b[0;34m\"additive\"\u001b[0m\u001b[0;34m)\u001b[0m\u001b[0;34m\u001b[0m\u001b[0m\n\u001b[0m",
      "\u001b[0;32m~/anaconda3/lib/python3.6/site-packages/statsmodels/tsa/seasonal.py\u001b[0m in \u001b[0;36mseasonal_decompose\u001b[0;34m(x, model, filt, freq, two_sided, extrapolate_trend)\u001b[0m\n\u001b[1;32m    125\u001b[0m             \u001b[0mfreq\u001b[0m \u001b[0;34m=\u001b[0m \u001b[0mpfreq\u001b[0m\u001b[0;34m\u001b[0m\u001b[0m\n\u001b[1;32m    126\u001b[0m         \u001b[0;32melse\u001b[0m\u001b[0;34m:\u001b[0m\u001b[0;34m\u001b[0m\u001b[0m\n\u001b[0;32m--> 127\u001b[0;31m             raise ValueError(\"You must specify a freq or x must be a \"\n\u001b[0m\u001b[1;32m    128\u001b[0m                              \u001b[0;34m\"pandas object with a timeseries index with \"\u001b[0m\u001b[0;34m\u001b[0m\u001b[0m\n\u001b[1;32m    129\u001b[0m                              \"a freq not set to None\")\n",
      "\u001b[0;31mValueError\u001b[0m: You must specify a freq or x must be a pandas object with a timeseries index with a freq not set to None"
     ]
    }
   ],
   "source": [
    "seasonal_decompose(pd.Series(data.iloc[:,0], index=data.index), model = \"additive\")"
   ]
  },
  {
   "cell_type": "code",
   "execution_count": 293,
   "metadata": {},
   "outputs": [],
   "source": [
    "temp = pd.Series(data.iloc[:, 14])"
   ]
  },
  {
   "cell_type": "code",
   "execution_count": 416,
   "metadata": {},
   "outputs": [],
   "source": [
    "april = data.iloc[:, 0:16]"
   ]
  },
  {
   "cell_type": "code",
   "execution_count": 417,
   "metadata": {},
   "outputs": [],
   "source": [
    "df = april.resample('4D').mean().dropna().transpose()"
   ]
  },
  {
   "cell_type": "code",
   "execution_count": 418,
   "metadata": {},
   "outputs": [],
   "source": [
    "scaler = StandardScaler()\n",
    "scaled_= pd.DataFrame(scaler.fit_transform(df), columns = df.columns, index=df.index)"
   ]
  },
  {
   "cell_type": "code",
   "execution_count": 419,
   "metadata": {},
   "outputs": [
    {
     "data": {
      "image/png": "[encoded data removed]",
      "text/plain": [
       "<Figure size 576x432 with 1 Axes>"
      ]
     },
     "metadata": {
      "needs_background": "light"
     },
     "output_type": "display_data"
    }
   ],
   "source": [
    "K = range(2,16)\n",
    "BIC = plot_BIC(scaled_mat,K)"
   ]
  },
  {
   "cell_type": "code",
   "execution_count": 442,
   "metadata": {},
   "outputs": [
    {
     "name": "stdout",
     "output_type": "stream",
     "text": [
      "1    8\n",
      "2    5\n",
      "0    3\n",
      "Name: cluster, dtype: int64\n"
     ]
    }
   ],
   "source": [
    "cluster = KMeans(n_clusters=3,random_state=217)\n",
    "scaled_mat['cluster'] = cluster.fit_predict(scaled_mat)\n",
    "print(scaled_mat.cluster.value_counts())"
   ]
  },
  {
   "cell_type": "code",
   "execution_count": 443,
   "metadata": {},
   "outputs": [
    {
     "data": {
      "text/plain": [
       "array([[ 0.17853006,  0.12618065,  0.16690325,  0.14700253,  0.08384435,\n",
       "         4.33333333,  1.06367478,  0.01573129],\n",
       "       [-0.01132888, -0.06457362, -0.11962171, -0.1222268 , -0.17490766,\n",
       "         0.25      ,  0.06985988, -0.01971717],\n",
       "       [-0.49819023, -0.47120163, -0.42938458, -0.45835027, -0.37690444,\n",
       "         3.6       , -0.74998068,  0.0221087 ]])"
      ]
     },
     "execution_count": 443,
     "metadata": {},
     "output_type": "execute_result"
    }
   ],
   "source": [
    "cluster.cluster_centers_"
   ]
  },
  {
   "cell_type": "code",
   "execution_count": 444,
   "metadata": {},
   "outputs": [
    {
     "data": {
      "text/html": [
       "<div>\n",
       "<style scoped>\n",
       "    .dataframe tbody tr th:only-of-type {\n",
       "        vertical-align: middle;\n",
       "    }\n",
       "\n",
       "    .dataframe tbody tr th {\n",
       "        vertical-align: top;\n",
       "    }\n",
       "\n",
       "    .dataframe thead th {\n",
       "        text-align: right;\n",
       "    }\n",
       "</style>\n",
       "<table border=\"1\" class=\"dataframe\">\n",
       "  <thead>\n",
       "    <tr style=\"text-align: right;\">\n",
       "      <th>Time</th>\n",
       "      <th>2019-04-01 06:47:05</th>\n",
       "      <th>2019-04-07 06:47:05</th>\n",
       "      <th>2019-04-13 06:47:05</th>\n",
       "      <th>2019-04-19 06:47:05</th>\n",
       "      <th>2019-04-25 06:47:05</th>\n",
       "      <th>cluster</th>\n",
       "      <th>x</th>\n",
       "      <th>y</th>\n",
       "    </tr>\n",
       "  </thead>\n",
       "  <tbody>\n",
       "    <tr>\n",
       "      <th>d1</th>\n",
       "      <td>-0.381377</td>\n",
       "      <td>-0.369658</td>\n",
       "      <td>-0.336095</td>\n",
       "      <td>-0.392371</td>\n",
       "      <td>-0.344393</td>\n",
       "      <td>2</td>\n",
       "      <td>-0.389791</td>\n",
       "      <td>-0.053202</td>\n",
       "    </tr>\n",
       "    <tr>\n",
       "      <th>d2</th>\n",
       "      <td>-0.359542</td>\n",
       "      <td>-0.348212</td>\n",
       "      <td>-0.343443</td>\n",
       "      <td>-0.369897</td>\n",
       "      <td>-0.345298</td>\n",
       "      <td>2</td>\n",
       "      <td>-0.349679</td>\n",
       "      <td>-0.073158</td>\n",
       "    </tr>\n",
       "    <tr>\n",
       "      <th>d3</th>\n",
       "      <td>-0.147551</td>\n",
       "      <td>-0.170904</td>\n",
       "      <td>-0.228528</td>\n",
       "      <td>-0.194970</td>\n",
       "      <td>-0.251257</td>\n",
       "      <td>1</td>\n",
       "      <td>-0.236511</td>\n",
       "      <td>0.018196</td>\n",
       "    </tr>\n",
       "    <tr>\n",
       "      <th>d4</th>\n",
       "      <td>0.060647</td>\n",
       "      <td>0.001236</td>\n",
       "      <td>-0.123347</td>\n",
       "      <td>-0.030028</td>\n",
       "      <td>-0.162694</td>\n",
       "      <td>1</td>\n",
       "      <td>0.241329</td>\n",
       "      <td>-0.051674</td>\n",
       "    </tr>\n",
       "    <tr>\n",
       "      <th>d5</th>\n",
       "      <td>0.182263</td>\n",
       "      <td>0.107811</td>\n",
       "      <td>-0.064589</td>\n",
       "      <td>0.016991</td>\n",
       "      <td>-0.126568</td>\n",
       "      <td>1</td>\n",
       "      <td>0.482322</td>\n",
       "      <td>-0.130045</td>\n",
       "    </tr>\n",
       "    <tr>\n",
       "      <th>d6</th>\n",
       "      <td>0.124177</td>\n",
       "      <td>0.065324</td>\n",
       "      <td>-0.093551</td>\n",
       "      <td>-0.072845</td>\n",
       "      <td>-0.161889</td>\n",
       "      <td>1</td>\n",
       "      <td>0.318469</td>\n",
       "      <td>-0.140691</td>\n",
       "    </tr>\n",
       "    <tr>\n",
       "      <th>d7</th>\n",
       "      <td>0.076902</td>\n",
       "      <td>0.018090</td>\n",
       "      <td>-0.103021</td>\n",
       "      <td>-0.131918</td>\n",
       "      <td>-0.165324</td>\n",
       "      <td>1</td>\n",
       "      <td>0.206590</td>\n",
       "      <td>-0.115356</td>\n",
       "    </tr>\n",
       "    <tr>\n",
       "      <th>d8</th>\n",
       "      <td>-0.014104</td>\n",
       "      <td>-0.091385</td>\n",
       "      <td>-0.128909</td>\n",
       "      <td>-0.179033</td>\n",
       "      <td>-0.181787</td>\n",
       "      <td>1</td>\n",
       "      <td>-0.029884</td>\n",
       "      <td>-0.059016</td>\n",
       "    </tr>\n",
       "    <tr>\n",
       "      <th>d9</th>\n",
       "      <td>0.076382</td>\n",
       "      <td>-0.047703</td>\n",
       "      <td>-0.000284</td>\n",
       "      <td>-0.096015</td>\n",
       "      <td>-0.099611</td>\n",
       "      <td>0</td>\n",
       "      <td>0.620263</td>\n",
       "      <td>-0.166168</td>\n",
       "    </tr>\n",
       "    <tr>\n",
       "      <th>d10</th>\n",
       "      <td>0.028502</td>\n",
       "      <td>-0.088141</td>\n",
       "      <td>0.023370</td>\n",
       "      <td>-0.081493</td>\n",
       "      <td>-0.081540</td>\n",
       "      <td>0</td>\n",
       "      <td>0.591685</td>\n",
       "      <td>-0.080203</td>\n",
       "    </tr>\n",
       "    <tr>\n",
       "      <th>d11</th>\n",
       "      <td>-0.100324</td>\n",
       "      <td>-0.163316</td>\n",
       "      <td>-0.023595</td>\n",
       "      <td>-0.118009</td>\n",
       "      <td>-0.112093</td>\n",
       "      <td>1</td>\n",
       "      <td>-0.002519</td>\n",
       "      <td>0.161287</td>\n",
       "    </tr>\n",
       "    <tr>\n",
       "      <th>d12</th>\n",
       "      <td>-0.272640</td>\n",
       "      <td>-0.283443</td>\n",
       "      <td>-0.191435</td>\n",
       "      <td>-0.268003</td>\n",
       "      <td>-0.237650</td>\n",
       "      <td>1</td>\n",
       "      <td>-0.420916</td>\n",
       "      <td>0.159561</td>\n",
       "    </tr>\n",
       "    <tr>\n",
       "      <th>d13</th>\n",
       "      <td>0.430706</td>\n",
       "      <td>0.514386</td>\n",
       "      <td>0.477624</td>\n",
       "      <td>0.618516</td>\n",
       "      <td>0.432684</td>\n",
       "      <td>0</td>\n",
       "      <td>1.979076</td>\n",
       "      <td>0.293565</td>\n",
       "    </tr>\n",
       "    <tr>\n",
       "      <th>sky</th>\n",
       "      <td>-0.779833</td>\n",
       "      <td>-0.732305</td>\n",
       "      <td>-0.667099</td>\n",
       "      <td>-0.715774</td>\n",
       "      <td>-0.587274</td>\n",
       "      <td>2</td>\n",
       "      <td>-1.917368</td>\n",
       "      <td>0.101356</td>\n",
       "    </tr>\n",
       "    <tr>\n",
       "      <th>temperature</th>\n",
       "      <td>-0.461270</td>\n",
       "      <td>-0.431285</td>\n",
       "      <td>-0.361325</td>\n",
       "      <td>-0.357881</td>\n",
       "      <td>-0.276233</td>\n",
       "      <td>2</td>\n",
       "      <td>-0.446214</td>\n",
       "      <td>0.095550</td>\n",
       "    </tr>\n",
       "    <tr>\n",
       "      <th>humidity</th>\n",
       "      <td>-0.508929</td>\n",
       "      <td>-0.474548</td>\n",
       "      <td>-0.438961</td>\n",
       "      <td>-0.455828</td>\n",
       "      <td>-0.331325</td>\n",
       "      <td>2</td>\n",
       "      <td>-0.646851</td>\n",
       "      <td>0.039997</td>\n",
       "    </tr>\n",
       "  </tbody>\n",
       "</table>\n",
       "</div>"
      ],
      "text/plain": [
       "Time         2019-04-01 06:47:05  2019-04-07 06:47:05  2019-04-13 06:47:05  \\\n",
       "d1                     -0.381377            -0.369658            -0.336095   \n",
       "d2                     -0.359542            -0.348212            -0.343443   \n",
       "d3                     -0.147551            -0.170904            -0.228528   \n",
       "d4                      0.060647             0.001236            -0.123347   \n",
       "d5                      0.182263             0.107811            -0.064589   \n",
       "d6                      0.124177             0.065324            -0.093551   \n",
       "d7                      0.076902             0.018090            -0.103021   \n",
       "d8                     -0.014104            -0.091385            -0.128909   \n",
       "d9                      0.076382            -0.047703            -0.000284   \n",
       "d10                     0.028502            -0.088141             0.023370   \n",
       "d11                    -0.100324            -0.163316            -0.023595   \n",
       "d12                    -0.272640            -0.283443            -0.191435   \n",
       "d13                     0.430706             0.514386             0.477624   \n",
       "sky                    -0.779833            -0.732305            -0.667099   \n",
       "temperature            -0.461270            -0.431285            -0.361325   \n",
       "humidity               -0.508929            -0.474548            -0.438961   \n",
       "\n",
       "Time         2019-04-19 06:47:05  2019-04-25 06:47:05  cluster         x  \\\n",
       "d1                     -0.392371            -0.344393        2 -0.389791   \n",
       "d2                     -0.369897            -0.345298        2 -0.349679   \n",
       "d3                     -0.194970            -0.251257        1 -0.236511   \n",
       "d4                     -0.030028            -0.162694        1  0.241329   \n",
       "d5                      0.016991            -0.126568        1  0.482322   \n",
       "d6                     -0.072845            -0.161889        1  0.318469   \n",
       "d7                     -0.131918            -0.165324        1  0.206590   \n",
       "d8                     -0.179033            -0.181787        1 -0.029884   \n",
       "d9                     -0.096015            -0.099611        0  0.620263   \n",
       "d10                    -0.081493            -0.081540        0  0.591685   \n",
       "d11                    -0.118009            -0.112093        1 -0.002519   \n",
       "d12                    -0.268003            -0.237650        1 -0.420916   \n",
       "d13                     0.618516             0.432684        0  1.979076   \n",
       "sky                    -0.715774            -0.587274        2 -1.917368   \n",
       "temperature            -0.357881            -0.276233        2 -0.446214   \n",
       "humidity               -0.455828            -0.331325        2 -0.646851   \n",
       "\n",
       "Time                y  \n",
       "d1          -0.053202  \n",
       "d2          -0.073158  \n",
       "d3           0.018196  \n",
       "d4          -0.051674  \n",
       "d5          -0.130045  \n",
       "d6          -0.140691  \n",
       "d7          -0.115356  \n",
       "d8          -0.059016  \n",
       "d9          -0.166168  \n",
       "d10         -0.080203  \n",
       "d11          0.161287  \n",
       "d12          0.159561  \n",
       "d13          0.293565  \n",
       "sky          0.101356  \n",
       "temperature  0.095550  \n",
       "humidity     0.039997  "
      ]
     },
     "execution_count": 444,
     "metadata": {},
     "output_type": "execute_result"
    }
   ],
   "source": [
    "scaled_mat"
   ]
  },
  {
   "cell_type": "code",
   "execution_count": 445,
   "metadata": {},
   "outputs": [],
   "source": [
    "# Reduction dimention of the data using PCA\n",
    "pca = PCA(n_components=3)\n",
    "df_pca = pca.fit_transform(scaled_mat)\n",
    "scaled_mat['x'] = df_pca[:,1]\n",
    "scaled_mat['y'] = df_pca[:,2]"
   ]
  },
  {
   "cell_type": "code",
   "execution_count": 446,
   "metadata": {},
   "outputs": [],
   "source": [
    "# Getting the center of each cluster for plotting\n",
    "cluster_centers = pca.transform(cluster.cluster_centers_)"
   ]
  },
  {
   "cell_type": "code",
   "execution_count": 447,
   "metadata": {},
   "outputs": [],
   "source": [
    "cluster_centers = pd.DataFrame(cluster_centers, columns=['x', 'y', 'z'])"
   ]
  },
  {
   "cell_type": "code",
   "execution_count": 448,
   "metadata": {},
   "outputs": [],
   "source": [
    "matrix = scaled_mat"
   ]
  },
  {
   "cell_type": "code",
   "execution_count": 449,
   "metadata": {},
   "outputs": [
    {
     "data": {
      "text/plain": [
       "Text(0.5, 1.0, 'Data Segmentation')"
      ]
     },
     "execution_count": 449,
     "metadata": {},
     "output_type": "execute_result"
    },
    {
     "data": {
      "image/png": "[encoded data removed]",
      "text/plain": [
       "<Figure size 576x432 with 2 Axes>"
      ]
     },
     "metadata": {
      "needs_background": "light"
     },
     "output_type": "display_data"
    }
   ],
   "source": [
    "fig, ax = plt.subplots(figsize=(8, 6))\n",
    "scatter=ax.scatter(matrix['x'],matrix['y'],c=matrix['cluster'],s=21,cmap=plt.cm.Set1_r)\n",
    "ax.scatter(cluster_centers['x'],cluster_centers['y'],s=70,c='blue',marker='+')\n",
    "ax.set_xlabel('x')\n",
    "ax.set_ylabel('y')\n",
    "plt.colorbar(scatter)\n",
    "plt.title('Data Segmentation')\n"
   ]
  },
  {
   "cell_type": "code",
   "execution_count": 1009,
   "metadata": {},
   "outputs": [],
   "source": [
    "day_sampled=data.resample('1W').mean().iloc[:, np.concatenate((np.arange(0, 17), [19, 20]))]\n",
    "#day_sampled=data.resample('1W').mean().loc\n",
    "day_sampled=day_sampled.fillna(0)"
   ]
  },
  {
   "cell_type": "code",
   "execution_count": 1010,
   "metadata": {},
   "outputs": [],
   "source": [
    "sc = StandardScaler()"
   ]
  },
  {
   "cell_type": "code",
   "execution_count": 1011,
   "metadata": {},
   "outputs": [
    {
     "data": {
      "text/plain": [
       "<matplotlib.axes._subplots.AxesSubplot at 0x7fc6b9548630>"
      ]
     },
     "execution_count": 1011,
     "metadata": {},
     "output_type": "execute_result"
    },
    {
     "data": {
      "image/png": "[encoded data removed]",
      "text/plain": [
       "<Figure size 432x288 with 1 Axes>"
      ]
     },
     "metadata": {
      "needs_background": "light"
     },
     "output_type": "display_data"
    }
   ],
   "source": [
    "day_sampled.iloc[:, 0].plot()"
   ]
  },
  {
   "cell_type": "code",
   "execution_count": 1012,
   "metadata": {},
   "outputs": [],
   "source": [
    "day_scaled = pd.DataFrame(sc.fit_transform(day_sampled), columns=day_sampled.columns, index=day_sampled.index)"
   ]
  },
  {
   "cell_type": "code",
   "execution_count": 1013,
   "metadata": {},
   "outputs": [
    {
     "data": {
      "text/plain": [
       "<matplotlib.axes._subplots.AxesSubplot at 0x7fc6b8ca6160>"
      ]
     },
     "execution_count": 1013,
     "metadata": {},
     "output_type": "execute_result"
    },
    {
     "data": {
      "image/png": "[encoded data removed]",
      "text/plain": [
       "<Figure size 432x288 with 1 Axes>"
      ]
     },
     "metadata": {
      "needs_background": "light"
     },
     "output_type": "display_data"
    }
   ],
   "source": [
    "day_scaled.iloc[:, 0].plot()"
   ]
  },
  {
   "cell_type": "code",
   "execution_count": 1014,
   "metadata": {},
   "outputs": [],
   "source": [
    "day_scaled = day_scaled.transpose()"
   ]
  },
  {
   "cell_type": "code",
   "execution_count": 1015,
   "metadata": {},
   "outputs": [
    {
     "data": {
      "text/plain": [
       "[-88.06970582946852,\n",
       " -93.83630037559152,\n",
       " -210.85894124768328,\n",
       " -159.79833963670274,\n",
       " -171.93331137670884,\n",
       " -156.08080429442634,\n",
       " -134.512886168161,\n",
       " -71.94900702786686,\n",
       " -101.37641966066008,\n",
       " -37.07352540581087,\n",
       " -51.32214728018835,\n",
       " 33.582767341406,\n",
       " 127.15454601378406,\n",
       " 196.45508553688364,\n",
       " 283.72146948660225,\n",
       " 353.4077470403606,\n",
       " 441.12304020589363]"
      ]
     },
     "execution_count": 1015,
     "metadata": {},
     "output_type": "execute_result"
    },
    {
     "data": {
      "image/png": "[encoded data removed]",
      "text/plain": [
       "<Figure size 576x432 with 1 Axes>"
      ]
     },
     "metadata": {
      "needs_background": "light"
     },
     "output_type": "display_data"
    }
   ],
   "source": [
    "plot_BIC(day_scaled, range(2, day_scaled.shape[0]))"
   ]
  },
  {
   "cell_type": "code",
   "execution_count": 1018,
   "metadata": {},
   "outputs": [
    {
     "data": {
      "text/plain": [
       "KMeans(algorithm='auto', copy_x=True, init='k-means++', max_iter=300,\n",
       "    n_clusters=4, n_init=10, n_jobs=1, precompute_distances='auto',\n",
       "    random_state=666, tol=0.0001, verbose=0)"
      ]
     },
     "execution_count": 1018,
     "metadata": {},
     "output_type": "execute_result"
    }
   ],
   "source": [
    "k_means = KMeans(n_clusters=4, random_state=666)\n",
    "k_means.fit(day_scaled)"
   ]
  },
  {
   "cell_type": "code",
   "execution_count": 1019,
   "metadata": {},
   "outputs": [],
   "source": [
    "scaled_centers = k_means.cluster_centers_"
   ]
  },
  {
   "cell_type": "code",
   "execution_count": 1020,
   "metadata": {},
   "outputs": [],
   "source": [
    "pca = PCA(n_components=3)"
   ]
  },
  {
   "cell_type": "code",
   "execution_count": 1021,
   "metadata": {},
   "outputs": [],
   "source": [
    "day_pca = pca.fit_transform(day_scaled)"
   ]
  },
  {
   "cell_type": "code",
   "execution_count": 1022,
   "metadata": {},
   "outputs": [
    {
     "data": {
      "text/plain": [
       "(array([0.63375468, 0.23849162, 0.06783582]), 0.9400821202894731)"
      ]
     },
     "execution_count": 1022,
     "metadata": {},
     "output_type": "execute_result"
    }
   ],
   "source": [
    "pca.explained_variance_ratio_, sum(pca.explained_variance_ratio_)"
   ]
  },
  {
   "cell_type": "code",
   "execution_count": 1023,
   "metadata": {},
   "outputs": [],
   "source": [
    "pca_centers = pd.DataFrame(pca.transform(scaled_centers), columns=['x', 'y', 'z'])\n",
    "pca_centers['cluster_id'] = pca_centers.index"
   ]
  },
  {
   "cell_type": "code",
   "execution_count": 1024,
   "metadata": {},
   "outputs": [],
   "source": [
    "day_pca = pd.DataFrame(day_pca, columns=['x', 'y', 'z'], index=day_scaled.index)"
   ]
  },
  {
   "cell_type": "code",
   "execution_count": 1025,
   "metadata": {
    "scrolled": false
   },
   "outputs": [],
   "source": [
    "day_pca['cluster_id'] = pd.Categorical(k_means.predict(day_scaled))"
   ]
  },
  {
   "cell_type": "code",
   "execution_count": 1005,
   "metadata": {},
   "outputs": [
    {
     "data": {
      "image/png": "[encoded data removed]",
      "text/plain": [
       "<Figure size 720x576 with 1 Axes>"
      ]
     },
     "metadata": {
      "needs_background": "light"
     },
     "output_type": "display_data"
    }
   ],
   "source": [
    "plt.figure(figsize=(10, 8))\n",
    "plt.scatter(x=day_pca['x'], y=day_pca['y'], c=day_pca['cluster_id'])\n",
    "#plt.scatter(x=pca_centers['x'], y=pca_centers['y'], c=pca_centers['cluster_id'], marker='+', s=200)\n",
    "for name in day_pca.index:\n",
    "    plt.annotate(s=name, xy=(day_pca.loc[name]['x'] + 0.05, day_pca.loc[name]['y'] - 0.05))"
   ]
  },
  {
   "cell_type": "code",
   "execution_count": 1029,
   "metadata": {},
   "outputs": [],
   "source": [
    "day_pca.cluster_id = day_pca.cluster_id.astype(\"int\")"
   ]
  },
  {
   "cell_type": "code",
   "execution_count": 1045,
   "metadata": {
    "scrolled": false
   },
   "outputs": [
    {
     "ename": "AttributeError",
     "evalue": "Unknown property opacity",
     "output_type": "error",
     "traceback": [
      "\u001b[0;31m---------------------------------------------------------------------------\u001b[0m",
      "\u001b[0;31mAttributeError\u001b[0m                            Traceback (most recent call last)",
      "\u001b[0;32m<ipython-input-1045-8129ca65c540>\u001b[0m in \u001b[0;36m<module>\u001b[0;34m\u001b[0m\n\u001b[1;32m      1\u001b[0m \u001b[0mplt\u001b[0m\u001b[0;34m.\u001b[0m\u001b[0mfigure\u001b[0m\u001b[0;34m(\u001b[0m\u001b[0mfigsize\u001b[0m\u001b[0;34m=\u001b[0m\u001b[0;34m(\u001b[0m\u001b[0;36m10\u001b[0m\u001b[0;34m,\u001b[0m \u001b[0;36m8\u001b[0m\u001b[0;34m)\u001b[0m\u001b[0;34m)\u001b[0m\u001b[0;34m\u001b[0m\u001b[0m\n\u001b[0;32m----> 2\u001b[0;31m \u001b[0msns\u001b[0m\u001b[0;34m.\u001b[0m\u001b[0mscatterplot\u001b[0m\u001b[0;34m(\u001b[0m\u001b[0mx\u001b[0m\u001b[0;34m=\u001b[0m\u001b[0;34m'x'\u001b[0m\u001b[0;34m,\u001b[0m \u001b[0my\u001b[0m\u001b[0;34m=\u001b[0m\u001b[0;34m'y'\u001b[0m\u001b[0;34m,\u001b[0m \u001b[0mopacity\u001b[0m \u001b[0;34m=\u001b[0m \u001b[0;36m0.6\u001b[0m\u001b[0;34m,\u001b[0m\u001b[0mhue\u001b[0m\u001b[0;34m=\u001b[0m\u001b[0;34m'cluster_id'\u001b[0m\u001b[0;34m,\u001b[0m \u001b[0ms\u001b[0m\u001b[0;34m=\u001b[0m\u001b[0;36m100\u001b[0m\u001b[0;34m,\u001b[0m \u001b[0mdata\u001b[0m\u001b[0;34m=\u001b[0m\u001b[0mday_pca\u001b[0m\u001b[0;34m,\u001b[0m \u001b[0mpalette\u001b[0m\u001b[0;34m=\u001b[0m\u001b[0msns\u001b[0m\u001b[0;34m.\u001b[0m\u001b[0mcolor_palette\u001b[0m\u001b[0;34m(\u001b[0m\u001b[0;34m\"muted\"\u001b[0m\u001b[0;34m,\u001b[0m \u001b[0mn_colors\u001b[0m\u001b[0;34m=\u001b[0m\u001b[0;36m4\u001b[0m\u001b[0;34m)\u001b[0m\u001b[0;34m)\u001b[0m\u001b[0;34m\u001b[0m\u001b[0m\n\u001b[0m\u001b[1;32m      3\u001b[0m \u001b[0;32mfor\u001b[0m \u001b[0mname\u001b[0m \u001b[0;32min\u001b[0m \u001b[0mday_pca\u001b[0m\u001b[0;34m.\u001b[0m\u001b[0mindex\u001b[0m\u001b[0;34m:\u001b[0m\u001b[0;34m\u001b[0m\u001b[0m\n\u001b[1;32m      4\u001b[0m     \u001b[0mplt\u001b[0m\u001b[0;34m.\u001b[0m\u001b[0mannotate\u001b[0m\u001b[0;34m(\u001b[0m\u001b[0ms\u001b[0m\u001b[0;34m=\u001b[0m\u001b[0mname\u001b[0m\u001b[0;34m,\u001b[0m \u001b[0mxy\u001b[0m\u001b[0;34m=\u001b[0m\u001b[0;34m(\u001b[0m\u001b[0mday_pca\u001b[0m\u001b[0;34m.\u001b[0m\u001b[0mloc\u001b[0m\u001b[0;34m[\u001b[0m\u001b[0mname\u001b[0m\u001b[0;34m]\u001b[0m\u001b[0;34m[\u001b[0m\u001b[0;34m'x'\u001b[0m\u001b[0;34m]\u001b[0m\u001b[0;34m,\u001b[0m \u001b[0mday_pca\u001b[0m\u001b[0;34m.\u001b[0m\u001b[0mloc\u001b[0m\u001b[0;34m[\u001b[0m\u001b[0mname\u001b[0m\u001b[0;34m]\u001b[0m\u001b[0;34m[\u001b[0m\u001b[0;34m'y'\u001b[0m\u001b[0;34m]\u001b[0m \u001b[0;34m+\u001b[0m \u001b[0;36m0.05\u001b[0m\u001b[0;34m)\u001b[0m\u001b[0;34m)\u001b[0m\u001b[0;34m\u001b[0m\u001b[0m\n",
      "\u001b[0;32m~/anaconda3/lib/python3.6/site-packages/seaborn/relational.py\u001b[0m in \u001b[0;36mscatterplot\u001b[0;34m(x, y, hue, style, size, data, palette, hue_order, hue_norm, sizes, size_order, size_norm, markers, style_order, x_bins, y_bins, units, estimator, ci, n_boot, alpha, x_jitter, y_jitter, legend, ax, **kwargs)\u001b[0m\n\u001b[1;32m   1339\u001b[0m         \u001b[0max\u001b[0m \u001b[0;34m=\u001b[0m \u001b[0mplt\u001b[0m\u001b[0;34m.\u001b[0m\u001b[0mgca\u001b[0m\u001b[0;34m(\u001b[0m\u001b[0;34m)\u001b[0m\u001b[0;34m\u001b[0m\u001b[0m\n\u001b[1;32m   1340\u001b[0m \u001b[0;34m\u001b[0m\u001b[0m\n\u001b[0;32m-> 1341\u001b[0;31m     \u001b[0mp\u001b[0m\u001b[0;34m.\u001b[0m\u001b[0mplot\u001b[0m\u001b[0;34m(\u001b[0m\u001b[0max\u001b[0m\u001b[0;34m,\u001b[0m \u001b[0mkwargs\u001b[0m\u001b[0;34m)\u001b[0m\u001b[0;34m\u001b[0m\u001b[0m\n\u001b[0m\u001b[1;32m   1342\u001b[0m \u001b[0;34m\u001b[0m\u001b[0m\n\u001b[1;32m   1343\u001b[0m     \u001b[0;32mreturn\u001b[0m \u001b[0max\u001b[0m\u001b[0;34m\u001b[0m\u001b[0m\n",
      "\u001b[0;32m~/anaconda3/lib/python3.6/site-packages/seaborn/relational.py\u001b[0m in \u001b[0;36mplot\u001b[0;34m(self, ax, kws)\u001b[0m\n\u001b[1;32m    877\u001b[0m         \u001b[0;31m# function will advance the axes property cycle.\u001b[0m\u001b[0;34m\u001b[0m\u001b[0;34m\u001b[0m\u001b[0m\n\u001b[1;32m    878\u001b[0m \u001b[0;34m\u001b[0m\u001b[0m\n\u001b[0;32m--> 879\u001b[0;31m         \u001b[0mscout\u001b[0m \u001b[0;34m=\u001b[0m \u001b[0max\u001b[0m\u001b[0;34m.\u001b[0m\u001b[0mscatter\u001b[0m\u001b[0;34m(\u001b[0m\u001b[0;34m[\u001b[0m\u001b[0;34m]\u001b[0m\u001b[0;34m,\u001b[0m \u001b[0;34m[\u001b[0m\u001b[0;34m]\u001b[0m\u001b[0;34m,\u001b[0m \u001b[0;34m**\u001b[0m\u001b[0mkws\u001b[0m\u001b[0;34m)\u001b[0m\u001b[0;34m\u001b[0m\u001b[0m\n\u001b[0m\u001b[1;32m    880\u001b[0m         \u001b[0ms\u001b[0m \u001b[0;34m=\u001b[0m \u001b[0mkws\u001b[0m\u001b[0;34m.\u001b[0m\u001b[0mpop\u001b[0m\u001b[0;34m(\u001b[0m\u001b[0;34m\"s\"\u001b[0m\u001b[0;34m,\u001b[0m \u001b[0mscout\u001b[0m\u001b[0;34m.\u001b[0m\u001b[0mget_sizes\u001b[0m\u001b[0;34m(\u001b[0m\u001b[0;34m)\u001b[0m\u001b[0;34m)\u001b[0m\u001b[0;34m\u001b[0m\u001b[0m\n\u001b[1;32m    881\u001b[0m         \u001b[0mc\u001b[0m \u001b[0;34m=\u001b[0m \u001b[0mkws\u001b[0m\u001b[0;34m.\u001b[0m\u001b[0mpop\u001b[0m\u001b[0;34m(\u001b[0m\u001b[0;34m\"c\"\u001b[0m\u001b[0;34m,\u001b[0m \u001b[0mscout\u001b[0m\u001b[0;34m.\u001b[0m\u001b[0mget_facecolors\u001b[0m\u001b[0;34m(\u001b[0m\u001b[0;34m)\u001b[0m\u001b[0;34m)\u001b[0m\u001b[0;34m\u001b[0m\u001b[0m\n",
      "\u001b[0;32m~/anaconda3/lib/python3.6/site-packages/matplotlib/__init__.py\u001b[0m in \u001b[0;36minner\u001b[0;34m(ax, data, *args, **kwargs)\u001b[0m\n\u001b[1;32m   1803\u001b[0m                         \u001b[0;34m\"the Matplotlib list!)\"\u001b[0m \u001b[0;34m%\u001b[0m \u001b[0;34m(\u001b[0m\u001b[0mlabel_namer\u001b[0m\u001b[0;34m,\u001b[0m \u001b[0mfunc\u001b[0m\u001b[0;34m.\u001b[0m\u001b[0m__name__\u001b[0m\u001b[0;34m)\u001b[0m\u001b[0;34m,\u001b[0m\u001b[0;34m\u001b[0m\u001b[0m\n\u001b[1;32m   1804\u001b[0m                         RuntimeWarning, stacklevel=2)\n\u001b[0;32m-> 1805\u001b[0;31m             \u001b[0;32mreturn\u001b[0m \u001b[0mfunc\u001b[0m\u001b[0;34m(\u001b[0m\u001b[0max\u001b[0m\u001b[0;34m,\u001b[0m \u001b[0;34m*\u001b[0m\u001b[0margs\u001b[0m\u001b[0;34m,\u001b[0m \u001b[0;34m**\u001b[0m\u001b[0mkwargs\u001b[0m\u001b[0;34m)\u001b[0m\u001b[0;34m\u001b[0m\u001b[0m\n\u001b[0m\u001b[1;32m   1806\u001b[0m \u001b[0;34m\u001b[0m\u001b[0m\n\u001b[1;32m   1807\u001b[0m         inner.__doc__ = _add_data_doc(inner.__doc__,\n",
      "\u001b[0;32m~/anaconda3/lib/python3.6/site-packages/matplotlib/axes/_axes.py\u001b[0m in \u001b[0;36mscatter\u001b[0;34m(self, x, y, s, c, marker, cmap, norm, vmin, vmax, alpha, linewidths, verts, edgecolors, **kwargs)\u001b[0m\n\u001b[1;32m   4287\u001b[0m                 )\n\u001b[1;32m   4288\u001b[0m         \u001b[0mcollection\u001b[0m\u001b[0;34m.\u001b[0m\u001b[0mset_transform\u001b[0m\u001b[0;34m(\u001b[0m\u001b[0mmtransforms\u001b[0m\u001b[0;34m.\u001b[0m\u001b[0mIdentityTransform\u001b[0m\u001b[0;34m(\u001b[0m\u001b[0;34m)\u001b[0m\u001b[0;34m)\u001b[0m\u001b[0;34m\u001b[0m\u001b[0m\n\u001b[0;32m-> 4289\u001b[0;31m         \u001b[0mcollection\u001b[0m\u001b[0;34m.\u001b[0m\u001b[0mupdate\u001b[0m\u001b[0;34m(\u001b[0m\u001b[0mkwargs\u001b[0m\u001b[0;34m)\u001b[0m\u001b[0;34m\u001b[0m\u001b[0m\n\u001b[0m\u001b[1;32m   4290\u001b[0m \u001b[0;34m\u001b[0m\u001b[0m\n\u001b[1;32m   4291\u001b[0m         \u001b[0;32mif\u001b[0m \u001b[0mcolors\u001b[0m \u001b[0;32mis\u001b[0m \u001b[0;32mNone\u001b[0m\u001b[0;34m:\u001b[0m\u001b[0;34m\u001b[0m\u001b[0m\n",
      "\u001b[0;32m~/anaconda3/lib/python3.6/site-packages/matplotlib/artist.py\u001b[0m in \u001b[0;36mupdate\u001b[0;34m(self, props)\u001b[0m\n\u001b[1;32m    914\u001b[0m \u001b[0;34m\u001b[0m\u001b[0m\n\u001b[1;32m    915\u001b[0m         \u001b[0;32mwith\u001b[0m \u001b[0mcbook\u001b[0m\u001b[0;34m.\u001b[0m\u001b[0m_setattr_cm\u001b[0m\u001b[0;34m(\u001b[0m\u001b[0mself\u001b[0m\u001b[0;34m,\u001b[0m \u001b[0meventson\u001b[0m\u001b[0;34m=\u001b[0m\u001b[0;32mFalse\u001b[0m\u001b[0;34m)\u001b[0m\u001b[0;34m:\u001b[0m\u001b[0;34m\u001b[0m\u001b[0m\n\u001b[0;32m--> 916\u001b[0;31m             \u001b[0mret\u001b[0m \u001b[0;34m=\u001b[0m \u001b[0;34m[\u001b[0m\u001b[0m_update_property\u001b[0m\u001b[0;34m(\u001b[0m\u001b[0mself\u001b[0m\u001b[0;34m,\u001b[0m \u001b[0mk\u001b[0m\u001b[0;34m,\u001b[0m \u001b[0mv\u001b[0m\u001b[0;34m)\u001b[0m \u001b[0;32mfor\u001b[0m \u001b[0mk\u001b[0m\u001b[0;34m,\u001b[0m \u001b[0mv\u001b[0m \u001b[0;32min\u001b[0m \u001b[0mprops\u001b[0m\u001b[0;34m.\u001b[0m\u001b[0mitems\u001b[0m\u001b[0;34m(\u001b[0m\u001b[0;34m)\u001b[0m\u001b[0;34m]\u001b[0m\u001b[0;34m\u001b[0m\u001b[0m\n\u001b[0m\u001b[1;32m    917\u001b[0m \u001b[0;34m\u001b[0m\u001b[0m\n\u001b[1;32m    918\u001b[0m         \u001b[0;32mif\u001b[0m \u001b[0mlen\u001b[0m\u001b[0;34m(\u001b[0m\u001b[0mret\u001b[0m\u001b[0;34m)\u001b[0m\u001b[0;34m:\u001b[0m\u001b[0;34m\u001b[0m\u001b[0m\n",
      "\u001b[0;32m~/anaconda3/lib/python3.6/site-packages/matplotlib/artist.py\u001b[0m in \u001b[0;36m<listcomp>\u001b[0;34m(.0)\u001b[0m\n\u001b[1;32m    914\u001b[0m \u001b[0;34m\u001b[0m\u001b[0m\n\u001b[1;32m    915\u001b[0m         \u001b[0;32mwith\u001b[0m \u001b[0mcbook\u001b[0m\u001b[0;34m.\u001b[0m\u001b[0m_setattr_cm\u001b[0m\u001b[0;34m(\u001b[0m\u001b[0mself\u001b[0m\u001b[0;34m,\u001b[0m \u001b[0meventson\u001b[0m\u001b[0;34m=\u001b[0m\u001b[0;32mFalse\u001b[0m\u001b[0;34m)\u001b[0m\u001b[0;34m:\u001b[0m\u001b[0;34m\u001b[0m\u001b[0m\n\u001b[0;32m--> 916\u001b[0;31m             \u001b[0mret\u001b[0m \u001b[0;34m=\u001b[0m \u001b[0;34m[\u001b[0m\u001b[0m_update_property\u001b[0m\u001b[0;34m(\u001b[0m\u001b[0mself\u001b[0m\u001b[0;34m,\u001b[0m \u001b[0mk\u001b[0m\u001b[0;34m,\u001b[0m \u001b[0mv\u001b[0m\u001b[0;34m)\u001b[0m \u001b[0;32mfor\u001b[0m \u001b[0mk\u001b[0m\u001b[0;34m,\u001b[0m \u001b[0mv\u001b[0m \u001b[0;32min\u001b[0m \u001b[0mprops\u001b[0m\u001b[0;34m.\u001b[0m\u001b[0mitems\u001b[0m\u001b[0;34m(\u001b[0m\u001b[0;34m)\u001b[0m\u001b[0;34m]\u001b[0m\u001b[0;34m\u001b[0m\u001b[0m\n\u001b[0m\u001b[1;32m    917\u001b[0m \u001b[0;34m\u001b[0m\u001b[0m\n\u001b[1;32m    918\u001b[0m         \u001b[0;32mif\u001b[0m \u001b[0mlen\u001b[0m\u001b[0;34m(\u001b[0m\u001b[0mret\u001b[0m\u001b[0;34m)\u001b[0m\u001b[0;34m:\u001b[0m\u001b[0;34m\u001b[0m\u001b[0m\n",
      "\u001b[0;32m~/anaconda3/lib/python3.6/site-packages/matplotlib/artist.py\u001b[0m in \u001b[0;36m_update_property\u001b[0;34m(self, k, v)\u001b[0m\n\u001b[1;32m    910\u001b[0m                 \u001b[0mfunc\u001b[0m \u001b[0;34m=\u001b[0m \u001b[0mgetattr\u001b[0m\u001b[0;34m(\u001b[0m\u001b[0mself\u001b[0m\u001b[0;34m,\u001b[0m \u001b[0;34m'set_'\u001b[0m \u001b[0;34m+\u001b[0m \u001b[0mk\u001b[0m\u001b[0;34m,\u001b[0m \u001b[0;32mNone\u001b[0m\u001b[0;34m)\u001b[0m\u001b[0;34m\u001b[0m\u001b[0m\n\u001b[1;32m    911\u001b[0m                 \u001b[0;32mif\u001b[0m \u001b[0;32mnot\u001b[0m \u001b[0mcallable\u001b[0m\u001b[0;34m(\u001b[0m\u001b[0mfunc\u001b[0m\u001b[0;34m)\u001b[0m\u001b[0;34m:\u001b[0m\u001b[0;34m\u001b[0m\u001b[0m\n\u001b[0;32m--> 912\u001b[0;31m                     \u001b[0;32mraise\u001b[0m \u001b[0mAttributeError\u001b[0m\u001b[0;34m(\u001b[0m\u001b[0;34m'Unknown property %s'\u001b[0m \u001b[0;34m%\u001b[0m \u001b[0mk\u001b[0m\u001b[0;34m)\u001b[0m\u001b[0;34m\u001b[0m\u001b[0m\n\u001b[0m\u001b[1;32m    913\u001b[0m                 \u001b[0;32mreturn\u001b[0m \u001b[0mfunc\u001b[0m\u001b[0;34m(\u001b[0m\u001b[0mv\u001b[0m\u001b[0;34m)\u001b[0m\u001b[0;34m\u001b[0m\u001b[0m\n\u001b[1;32m    914\u001b[0m \u001b[0;34m\u001b[0m\u001b[0m\n",
      "\u001b[0;31mAttributeError\u001b[0m: Unknown property opacity"
     ]
    },
    {
     "data": {
      "image/png": "[encoded data removed]",
      "text/plain": [
       "<Figure size 720x576 with 1 Axes>"
      ]
     },
     "metadata": {
      "needs_background": "light"
     },
     "output_type": "display_data"
    }
   ],
   "source": [
    "plt.figure(figsize=(10, 8))\n",
    "sns.scatterplot(x='x', y='y', alpha = 0.6,hue='cluster_id', s=100, data=day_pca, palette=sns.color_palette(\"muted\", n_colors=4))\n",
    "for name in day_pca.index:\n",
    "    plt.annotate(s=name, xy=(day_pca.loc[name]['x'], day_pca.loc[name]['y'] + 0.05))"
   ]
  },
  {
   "cell_type": "code",
   "execution_count": 977,
   "metadata": {},
   "outputs": [
    {
     "ename": "IndexError",
     "evalue": "only integers, slices (`:`), ellipsis (`...`), numpy.newaxis (`None`) and integer or boolean arrays are valid indices",
     "output_type": "error",
     "traceback": [
      "\u001b[0;31m---------------------------------------------------------------------------\u001b[0m",
      "\u001b[0;31mIndexError\u001b[0m                                Traceback (most recent call last)",
      "\u001b[0;32m<ipython-input-977-91ca6050cb3d>\u001b[0m in \u001b[0;36m<module>\u001b[0;34m\u001b[0m\n\u001b[1;32m      1\u001b[0m \u001b[0mplt\u001b[0m\u001b[0;34m.\u001b[0m\u001b[0mfigure\u001b[0m\u001b[0;34m(\u001b[0m\u001b[0mfigsize\u001b[0m\u001b[0;34m=\u001b[0m\u001b[0;34m(\u001b[0m\u001b[0;36m10\u001b[0m\u001b[0;34m,\u001b[0m \u001b[0;36m8\u001b[0m\u001b[0;34m)\u001b[0m\u001b[0;34m)\u001b[0m\u001b[0;34m\u001b[0m\u001b[0m\n\u001b[0;32m----> 2\u001b[0;31m \u001b[0mplt\u001b[0m\u001b[0;34m.\u001b[0m\u001b[0mscatter\u001b[0m\u001b[0;34m(\u001b[0m\u001b[0mx\u001b[0m\u001b[0;34m=\u001b[0m\u001b[0mday_pca\u001b[0m\u001b[0;34m[\u001b[0m\u001b[0;34m'y'\u001b[0m\u001b[0;34m]\u001b[0m\u001b[0;34m,\u001b[0m \u001b[0my\u001b[0m\u001b[0;34m=\u001b[0m\u001b[0mday_pca\u001b[0m\u001b[0;34m[\u001b[0m\u001b[0;34m'z'\u001b[0m\u001b[0;34m]\u001b[0m\u001b[0;34m,\u001b[0m \u001b[0mc\u001b[0m\u001b[0;34m=\u001b[0m\u001b[0mday_pca\u001b[0m\u001b[0;34m[\u001b[0m\u001b[0;34m'cluster_id'\u001b[0m\u001b[0;34m]\u001b[0m\u001b[0;34m)\u001b[0m\u001b[0;34m\u001b[0m\u001b[0m\n\u001b[0m\u001b[1;32m      3\u001b[0m \u001b[0mplt\u001b[0m\u001b[0;34m.\u001b[0m\u001b[0mscatter\u001b[0m\u001b[0;34m(\u001b[0m\u001b[0mx\u001b[0m\u001b[0;34m=\u001b[0m\u001b[0mpca_centers\u001b[0m\u001b[0;34m[\u001b[0m\u001b[0;34m'y'\u001b[0m\u001b[0;34m]\u001b[0m\u001b[0;34m,\u001b[0m \u001b[0my\u001b[0m\u001b[0;34m=\u001b[0m\u001b[0mpca_centers\u001b[0m\u001b[0;34m[\u001b[0m\u001b[0;34m'z'\u001b[0m\u001b[0;34m]\u001b[0m\u001b[0;34m,\u001b[0m \u001b[0mc\u001b[0m\u001b[0;34m=\u001b[0m\u001b[0mpca_centers\u001b[0m\u001b[0;34m[\u001b[0m\u001b[0;34m'cluster_id'\u001b[0m\u001b[0;34m]\u001b[0m\u001b[0;34m,\u001b[0m \u001b[0mmarker\u001b[0m\u001b[0;34m=\u001b[0m\u001b[0;34m'+'\u001b[0m\u001b[0;34m,\u001b[0m \u001b[0ms\u001b[0m\u001b[0;34m=\u001b[0m\u001b[0;36m200\u001b[0m\u001b[0;34m)\u001b[0m\u001b[0;34m\u001b[0m\u001b[0m\n\u001b[1;32m      4\u001b[0m \u001b[0;32mfor\u001b[0m \u001b[0mname\u001b[0m \u001b[0;32min\u001b[0m \u001b[0mday_pca\u001b[0m\u001b[0;34m.\u001b[0m\u001b[0mindex\u001b[0m\u001b[0;34m:\u001b[0m\u001b[0;34m\u001b[0m\u001b[0m\n\u001b[1;32m      5\u001b[0m     \u001b[0mplt\u001b[0m\u001b[0;34m.\u001b[0m\u001b[0mannotate\u001b[0m\u001b[0;34m(\u001b[0m\u001b[0ms\u001b[0m\u001b[0;34m=\u001b[0m\u001b[0mname\u001b[0m\u001b[0;34m,\u001b[0m \u001b[0mxy\u001b[0m\u001b[0;34m=\u001b[0m\u001b[0;34m(\u001b[0m\u001b[0mday_pca\u001b[0m\u001b[0;34m.\u001b[0m\u001b[0mloc\u001b[0m\u001b[0;34m[\u001b[0m\u001b[0mname\u001b[0m\u001b[0;34m]\u001b[0m\u001b[0;34m[\u001b[0m\u001b[0;34m'y'\u001b[0m\u001b[0;34m]\u001b[0m\u001b[0;34m,\u001b[0m \u001b[0mday_pca\u001b[0m\u001b[0;34m.\u001b[0m\u001b[0mloc\u001b[0m\u001b[0;34m[\u001b[0m\u001b[0mname\u001b[0m\u001b[0;34m]\u001b[0m\u001b[0;34m[\u001b[0m\u001b[0;34m'z'\u001b[0m\u001b[0;34m]\u001b[0m \u001b[0;34m+\u001b[0m \u001b[0;36m0.05\u001b[0m\u001b[0;34m)\u001b[0m\u001b[0;34m)\u001b[0m\u001b[0;34m\u001b[0m\u001b[0m\n",
      "\u001b[0;31mIndexError\u001b[0m: only integers, slices (`:`), ellipsis (`...`), numpy.newaxis (`None`) and integer or boolean arrays are valid indices"
     ]
    },
    {
     "data": {
      "text/plain": [
       "<Figure size 720x576 with 0 Axes>"
      ]
     },
     "metadata": {},
     "output_type": "display_data"
    }
   ],
   "source": [
    "plt.figure(figsize=(10, 8))\n",
    "plt.scatter(x=day_pca['y'], y=day_pca['z'], c=day_pca['cluster_id'])\n",
    "plt.scatter(x=pca_centers['y'], y=pca_centers['z'], c=pca_centers['cluster_id'], marker='+', s=200)\n",
    "for name in day_pca.index:\n",
    "    plt.annotate(s=name, xy=(day_pca.loc[name]['y'], day_pca.loc[name]['z'] + 0.05))"
   ]
  },
  {
   "cell_type": "code",
   "execution_count": 903,
   "metadata": {},
   "outputs": [
    {
     "data": {
      "image/png": "[encoded data removed]",
      "text/plain": [
       "<Figure size 720x576 with 1 Axes>"
      ]
     },
     "metadata": {
      "needs_background": "light"
     },
     "output_type": "display_data"
    }
   ],
   "source": [
    "plt.figure(figsize=(10, 8))\n",
    "plt.scatter(x=day_pca['x'], y=day_pca['z'], c=day_pca['cluster_id'])\n",
    "plt.scatter(x=pca_centers['x'], y=pca_centers['z'], c=pca_centers['cluster_id'], marker='+', s=200)\n",
    "for name in day_pca.index:\n",
    "    plt.annotate(s=name, xy=(day_pca.loc[name]['x'], day_pca.loc[name]['z'] + 0.05))"
   ]
  },
  {
   "cell_type": "code",
   "execution_count": null,
   "metadata": {},
   "outputs": [],
   "source": []
  }
 ],
 "metadata": {
  "kernelspec": {
   "display_name": "Python 3",
   "language": "python",
   "name": "python3"
  },
  "language_info": {
   "codemirror_mode": {
    "name": "ipython",
    "version": 3
   },
   "file_extension": ".py",
   "mimetype": "text/x-python",
   "name": "python",
   "nbconvert_exporter": "python",
   "pygments_lexer": "ipython3",
   "version": "3.6.6"
  }
 },
 "nbformat": 4,
 "nbformat_minor": 2
}
